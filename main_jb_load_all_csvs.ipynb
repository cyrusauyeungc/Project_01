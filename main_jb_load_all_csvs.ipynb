{
 "cells": [
  {
   "cell_type": "code",
   "execution_count": 13,
   "metadata": {
    "ExecuteTime": {
     "end_time": "2020-10-24T02:16:21.271566Z",
     "start_time": "2020-10-24T02:16:20.911213Z"
    },
    "code_folding": [
     38,
     54
    ],
    "scrolled": false
   },
   "outputs": [
    {
     "name": "stdout",
     "output_type": "stream",
     "text": [
      "df_child_restraints\n"
     ]
    },
    {
     "data": {
      "text/plain": [
       "'df_child_restraints'"
      ]
     },
     "metadata": {},
     "output_type": "display_data"
    },
    {
     "name": "stdout",
     "output_type": "stream",
     "text": [
      "df_vehicle_type\n"
     ]
    },
    {
     "data": {
      "text/plain": [
       "'df_vehicle_type'"
      ]
     },
     "metadata": {},
     "output_type": "display_data"
    },
    {
     "name": "stdout",
     "output_type": "stream",
     "text": [
      "df_drink_driving_data\n"
     ]
    },
    {
     "data": {
      "text/plain": [
       "'df_drink_driving_data'"
      ]
     },
     "metadata": {},
     "output_type": "display_data"
    },
    {
     "name": "stdout",
     "output_type": "stream",
     "text": [
      "df_drink_driving_limit\n"
     ]
    },
    {
     "data": {
      "text/plain": [
       "'df_drink_driving_limit'"
      ]
     },
     "metadata": {},
     "output_type": "display_data"
    },
    {
     "name": "stdout",
     "output_type": "stream",
     "text": [
      "df_helmet_fastening\n"
     ]
    },
    {
     "data": {
      "text/plain": [
       "'df_helmet_fastening'"
      ]
     },
     "metadata": {},
     "output_type": "display_data"
    },
    {
     "name": "stdout",
     "output_type": "stream",
     "text": [
      "df_helmet_laws\n"
     ]
    },
    {
     "data": {
      "text/plain": [
       "'df_helmet_laws'"
      ]
     },
     "metadata": {},
     "output_type": "display_data"
    },
    {
     "name": "stdout",
     "output_type": "stream",
     "text": [
      "df_helmet_law_applicability\n"
     ]
    },
    {
     "data": {
      "text/plain": [
       "'df_helmet_law_applicability'"
      ]
     },
     "metadata": {},
     "output_type": "display_data"
    },
    {
     "name": "stdout",
     "output_type": "stream",
     "text": [
      "df_max_speed_limits\n"
     ]
    },
    {
     "data": {
      "text/plain": [
       "'df_max_speed_limits'"
      ]
     },
     "metadata": {},
     "output_type": "display_data"
    },
    {
     "name": "stdout",
     "output_type": "stream",
     "text": [
      "df_number_registered_vehicles\n"
     ]
    },
    {
     "data": {
      "text/plain": [
       "'df_number_registered_vehicles'"
      ]
     },
     "metadata": {},
     "output_type": "display_data"
    },
    {
     "name": "stdout",
     "output_type": "stream",
     "text": [
      "df_seat_belt_laws\n"
     ]
    },
    {
     "data": {
      "text/plain": [
       "'df_seat_belt_laws'"
      ]
     },
     "metadata": {},
     "output_type": "display_data"
    },
    {
     "name": "stdout",
     "output_type": "stream",
     "text": [
      "df_seat_belt_rates\n"
     ]
    },
    {
     "data": {
      "text/plain": [
       "'df_seat_belt_rates'"
      ]
     },
     "metadata": {},
     "output_type": "display_data"
    },
    {
     "name": "stdout",
     "output_type": "stream",
     "text": [
      "df_speed_data_by_country\n"
     ]
    },
    {
     "data": {
      "text/plain": [
       "'df_speed_data_by_country'"
      ]
     },
     "metadata": {},
     "output_type": "display_data"
    },
    {
     "name": "stdout",
     "output_type": "stream",
     "text": [
      "df_total_deaths\n"
     ]
    },
    {
     "data": {
      "text/plain": [
       "'df_total_deaths'"
      ]
     },
     "metadata": {},
     "output_type": "display_data"
    },
    {
     "name": "stdout",
     "output_type": "stream",
     "text": [
      "df_vehicle_standards\n"
     ]
    },
    {
     "data": {
      "text/plain": [
       "'df_vehicle_standards'"
      ]
     },
     "metadata": {},
     "output_type": "display_data"
    }
   ],
   "source": [
    "# Dependencies\n",
    "import pandas as pd\n",
    "from os import listdir\n",
    "\n",
    "# df_child_restraints\n",
    "# df_vehicle_type\n",
    "# df_drink_driving_data\n",
    "# df_drink_driving_limit\n",
    "# df_helmet_fastening\n",
    "# df_helmet_laws\n",
    "# df_helmet_law_applicability\n",
    "# df_max_speed_limits\n",
    "# df_number_registered_vehicles\n",
    "# df_seat_belt_laws\n",
    "# df_seat_belt_rates\n",
    "# df_speed_data_by_country\n",
    "# df_total_deaths\n",
    "# df_vehicle_standards\n",
    "\n",
    "# files = [listdir('data_raw/')]\n",
    "# display( files[0] )\n",
    "\n",
    "df_child_restraints =\\\n",
    "df_vehicle_type =\\\n",
    "df_drink_driving_data =\\\n",
    "df_drink_driving_limit =\\\n",
    "df_helmet_fastening =\\\n",
    "df_helmet_laws =\\\n",
    "df_helmet_law_applicability  =\\\n",
    "df_max_speed_limits  =\\\n",
    "df_number_registered_vehicles  =\\\n",
    "df_seat_belt_laws  =\\\n",
    "df_seat_belt_rates  =\\\n",
    "df_speed_data_by_country  =\\\n",
    "df_total_deaths  =\\\n",
    "df_vehicle_standards  =\\\n",
    "pd.DataFrame()\n",
    "\n",
    "dfs = [\"df_child_restraints\",\n",
    "       \"df_vehicle_type\",\n",
    "       \"df_drink_driving_data\",\n",
    "       \"df_drink_driving_limit\",\n",
    "       \"df_helmet_fastening\",\n",
    "       \"df_helmet_laws\",\n",
    "       \"df_helmet_law_applicability\",\n",
    "       \"df_max_speed_limits\",\n",
    "       \"df_number_registered_vehicles\",\n",
    "       \"df_seat_belt_laws\",\n",
    "       \"df_seat_belt_rates\",\n",
    "       \"df_speed_data_by_country\",\n",
    "       \"df_total_deaths\",\n",
    "       \"df_vehicle_standards\",\n",
    "      ]\n",
    "\n",
    "countries = [\"Australia\",\n",
    "             \"United States of America\",\n",
    "             \"United Kingdom of Great Britain and Northern Ireland\",\n",
    "             \"Spain\",\n",
    "             \"Sweden\",\n",
    "             \"Germany\",\n",
    "             \"Israel\",\n",
    "             \"Canada\",\n",
    "             \"Argentina\",\n",
    "             \"Belgium\",\n",
    "             \"Finland\",\n",
    "             \"Greece\",\n",
    "            ]\n",
    "\n",
    "raw_child_restraints = pd.read_csv('data_raw/child_restraints_by_country.csv')\n",
    "raw_vehicle_type = pd.read_csv('data_raw/deaths_by_vehicle_type.csv', skiprows = 1)\n",
    "raw_drink_driving_data = pd.read_csv('data_raw/drink_driving_data.csv')\n",
    "raw_drink_driving_limit = pd.read_csv('data_raw/drink_driving_limit.csv', skiprows = 1)\n",
    "raw_helmet_fastening = pd.read_csv('data_raw/helmet_fastening.csv')\n",
    "raw_helmet_laws = pd.read_csv('data_raw/helmet_laws_by_country.csv')\n",
    "raw_helmet_law_applicability = pd.read_csv('data_raw/helmet_law_applicability.csv', skiprows = 1)\n",
    "raw_max_speed_limits = pd.read_csv('data_raw/max_speed_limits_by_country.csv', skiprows = 1)\n",
    "raw_number_registered_vehicles = pd.read_csv('data_raw/number_registered_vehicles.csv')\n",
    "raw_seat_belt_laws = pd.read_csv('data_raw/seat_belt_laws.csv')\n",
    "raw_seat_belt_rates = pd.read_csv('data_raw/seat_belt_rates.csv', skiprows = 1)\n",
    "raw_speed_data_by_country = pd.read_csv('data_raw/speed_data_by_country.csv')\n",
    "raw_total_deaths = pd.read_csv('data_raw/total_deaths_by_country.csv', skiprows = 1)\n",
    "raw_vehicle_standards = pd.read_csv('data_raw/vehicle_standards_by_country.csv', skiprows = 1)\n",
    "\n",
    "for i in countries:\n",
    "    df_child_restraints = df_child_restraints.append( raw_child_restraints [ raw_child_restraints ['Country'] .str.contains(i) ], ignore_index = True)\n",
    "    \n",
    "    df_vehicle_type = df_vehicle_type.append( raw_vehicle_type [ raw_vehicle_type ['Country'] .str.contains(i) ], ignore_index = True )\n",
    "    \n",
    "    df_drink_driving_data = df_drink_driving_data.append( raw_drink_driving_data [ raw_drink_driving_data ['Country'] .str.contains(i) ], ignore_index = True )\n",
    "    \n",
    "    df_drink_driving_limit = df_drink_driving_limit.append( raw_drink_driving_limit [ raw_drink_driving_limit ['Country'] .str.contains(i) ], ignore_index = True )\n",
    "    \n",
    "    df_helmet_fastening = df_helmet_fastening.append( raw_helmet_fastening [ raw_helmet_fastening ['Country'] .str.contains(i) ], ignore_index = True )\n",
    "    \n",
    "    df_helmet_laws = df_helmet_laws.append( raw_helmet_laws [ raw_helmet_laws ['Country'] .str.contains(i) ], ignore_index = True )\n",
    "    \n",
    "    df_helmet_law_applicability = df_helmet_law_applicability.append( raw_helmet_law_applicability [ raw_helmet_law_applicability ['Country'] .str.contains(i) ], ignore_index = True )\n",
    "    \n",
    "    df_max_speed_limits = df_max_speed_limits.append( raw_max_speed_limits [ raw_max_speed_limits ['Country'] .str.contains(i) ], ignore_index = True )\n",
    "    \n",
    "    df_number_registered_vehicles = df_number_registered_vehicles.append( raw_number_registered_vehicles [ raw_number_registered_vehicles ['Country'] .str.contains(i) ], ignore_index = True )\n",
    "    \n",
    "    df_seat_belt_laws = df_seat_belt_laws.append( raw_seat_belt_laws [ raw_seat_belt_laws ['Country'] .str.contains(i) ], ignore_index = True )\n",
    "    \n",
    "    df_seat_belt_rates = df_seat_belt_rates.append( raw_seat_belt_rates [ raw_seat_belt_rates ['Country'] .str.contains(i) ], ignore_index = True )\n",
    "    \n",
    "    df_speed_data_by_country = df_speed_data_by_country.append( raw_speed_data_by_country [ raw_speed_data_by_country ['Country'] .str.contains(i) ], ignore_index = True )\n",
    "    \n",
    "    df_total_deaths = df_total_deaths.append( raw_total_deaths [ raw_total_deaths ['Country'] .str.contains(i) ], ignore_index = True )\n",
    "    \n",
    "    df_vehicle_standards = df_vehicle_standards.append( raw_vehicle_standards [ raw_vehicle_standards ['Country'] .str.contains(i) ], ignore_index = True )\n",
    "#End For\n",
    "\n",
    "for x in dfs:\n",
    "    print(x)\n",
    "    display( x )\n",
    "\n",
    "# pricapitalizent(\"\")\n",
    "# display( df_child_restraints )\n",
    "# display( df_vehicle_type )\n",
    "# display( df_drink_driving_data )\n",
    "# display( df_drink_driving_limit )\n",
    "# display( df_helmet_fastening )\n",
    "# display( df_helmet_laws )\n",
    "# display( df_helmet_law_applicability )\n",
    "# display( df_max_speed_limits )\n",
    "# display( df_number_registered_vehicles )\n",
    "# display( df_seat_belt_laws )\n",
    "# display( df_seat_belt_rates )\n",
    "# display( df_speed_data_by_country )\n",
    "# display( df_total_deaths )\n",
    "# display( df_vehicle_standards )\n"
   ]
  },
  {
   "cell_type": "code",
   "execution_count": 12,
   "metadata": {
    "ExecuteTime": {
     "end_time": "2020-10-24T02:16:07.257164Z",
     "start_time": "2020-10-24T02:16:07.247163Z"
    }
   },
   "outputs": [
    {
     "data": {
      "text/html": [
       "<div>\n",
       "<style scoped>\n",
       "    .dataframe tbody tr th:only-of-type {\n",
       "        vertical-align: middle;\n",
       "    }\n",
       "\n",
       "    .dataframe tbody tr th {\n",
       "        vertical-align: top;\n",
       "    }\n",
       "\n",
       "    .dataframe thead th {\n",
       "        text-align: right;\n",
       "    }\n",
       "</style>\n",
       "<table border=\"1\" class=\"dataframe\">\n",
       "  <thead>\n",
       "    <tr style=\"text-align: right;\">\n",
       "      <th></th>\n",
       "      <th>Country</th>\n",
       "      <th>Year</th>\n",
       "      <th>Urban</th>\n",
       "      <th>Rural</th>\n",
       "    </tr>\n",
       "  </thead>\n",
       "  <tbody>\n",
       "    <tr>\n",
       "      <th>0</th>\n",
       "      <td>Australia</td>\n",
       "      <td>2017</td>\n",
       "      <td>50</td>\n",
       "      <td>100 - 130</td>\n",
       "    </tr>\n",
       "    <tr>\n",
       "      <th>1</th>\n",
       "      <td>United States of America</td>\n",
       "      <td>2017</td>\n",
       "      <td>32 - 128</td>\n",
       "      <td>40 - 128</td>\n",
       "    </tr>\n",
       "    <tr>\n",
       "      <th>2</th>\n",
       "      <td>United Kingdom of Great Britain and Northern I...</td>\n",
       "      <td>2017</td>\n",
       "      <td>48</td>\n",
       "      <td>96</td>\n",
       "    </tr>\n",
       "    <tr>\n",
       "      <th>3</th>\n",
       "      <td>Spain</td>\n",
       "      <td>2017</td>\n",
       "      <td>50</td>\n",
       "      <td>90</td>\n",
       "    </tr>\n",
       "    <tr>\n",
       "      <th>4</th>\n",
       "      <td>Sweden</td>\n",
       "      <td>2017</td>\n",
       "      <td>50</td>\n",
       "      <td>110</td>\n",
       "    </tr>\n",
       "    <tr>\n",
       "      <th>5</th>\n",
       "      <td>Germany</td>\n",
       "      <td>2017</td>\n",
       "      <td>50</td>\n",
       "      <td>100</td>\n",
       "    </tr>\n",
       "    <tr>\n",
       "      <th>6</th>\n",
       "      <td>Israel</td>\n",
       "      <td>2017</td>\n",
       "      <td>50</td>\n",
       "      <td>80</td>\n",
       "    </tr>\n",
       "    <tr>\n",
       "      <th>7</th>\n",
       "      <td>Canada</td>\n",
       "      <td>2017</td>\n",
       "      <td>50</td>\n",
       "      <td>50  - 100</td>\n",
       "    </tr>\n",
       "    <tr>\n",
       "      <th>8</th>\n",
       "      <td>Argentina</td>\n",
       "      <td>2017</td>\n",
       "      <td>60</td>\n",
       "      <td>110</td>\n",
       "    </tr>\n",
       "    <tr>\n",
       "      <th>9</th>\n",
       "      <td>Belgium</td>\n",
       "      <td>2017</td>\n",
       "      <td>50</td>\n",
       "      <td>90</td>\n",
       "    </tr>\n",
       "    <tr>\n",
       "      <th>10</th>\n",
       "      <td>Finland</td>\n",
       "      <td>2017</td>\n",
       "      <td>50</td>\n",
       "      <td>80</td>\n",
       "    </tr>\n",
       "    <tr>\n",
       "      <th>11</th>\n",
       "      <td>Greece</td>\n",
       "      <td>2017</td>\n",
       "      <td>50</td>\n",
       "      <td>90</td>\n",
       "    </tr>\n",
       "  </tbody>\n",
       "</table>\n",
       "</div>"
      ],
      "text/plain": [
       "                                              Country  Year      Urban  \\\n",
       "0                                           Australia  2017         50   \n",
       "1                            United States of America  2017  32 - 128    \n",
       "2   United Kingdom of Great Britain and Northern I...  2017         48   \n",
       "3                                               Spain  2017         50   \n",
       "4                                              Sweden  2017         50   \n",
       "5                                             Germany  2017         50   \n",
       "6                                              Israel  2017         50   \n",
       "7                                              Canada  2017         50   \n",
       "8                                           Argentina  2017         60   \n",
       "9                                             Belgium  2017         50   \n",
       "10                                            Finland  2017         50   \n",
       "11                                             Greece  2017         50   \n",
       "\n",
       "           Rural  \n",
       "0     100 - 130   \n",
       "1      40 - 128   \n",
       "2             96  \n",
       "3             90  \n",
       "4            110  \n",
       "5            100  \n",
       "6             80  \n",
       "7   50  - 100     \n",
       "8            110  \n",
       "9             90  \n",
       "10            80  \n",
       "11            90  "
      ]
     },
     "metadata": {},
     "output_type": "display_data"
    }
   ],
   "source": [
    "display(df_max_speed_limits)"
   ]
  },
  {
   "cell_type": "code",
   "execution_count": null,
   "metadata": {},
   "outputs": [],
   "source": []
  }
 ],
 "metadata": {
  "hide_input": false,
  "kernelspec": {
   "display_name": "Python 3",
   "language": "python",
   "name": "python3"
  },
  "language_info": {
   "codemirror_mode": {
    "name": "ipython",
    "version": 3
   },
   "file_extension": ".py",
   "mimetype": "text/x-python",
   "name": "python",
   "nbconvert_exporter": "python",
   "pygments_lexer": "ipython3",
   "version": "3.7.9"
  },
  "varInspector": {
   "cols": {
    "lenName": "40",
    "lenType": 16,
    "lenVar": 40
   },
   "kernels_config": {
    "python": {
     "delete_cmd_postfix": "",
     "delete_cmd_prefix": "del ",
     "library": "var_list.py",
     "varRefreshCmd": "print(var_dic_list())"
    },
    "r": {
     "delete_cmd_postfix": ") ",
     "delete_cmd_prefix": "rm(",
     "library": "var_list.r",
     "varRefreshCmd": "cat(var_dic_list()) "
    }
   },
   "position": {
    "height": "777.85px",
    "left": "1204px",
    "right": "20px",
    "top": "216px",
    "width": "800px"
   },
   "types_to_exclude": [
    "module",
    "function",
    "builtin_function_or_method",
    "instance",
    "_Feature"
   ],
   "window_display": false
  }
 },
 "nbformat": 4,
 "nbformat_minor": 4
}
