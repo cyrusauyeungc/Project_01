{
 "cells": [
  {
   "cell_type": "code",
   "execution_count": null,
   "metadata": {},
   "outputs": [],
   "source": [
    "# Dependencies\n",
    "import json\n",
    "import requests\n",
    "from pprint import pprint\n",
    "import pandas as pd\n",
    "\n",
    "# Config information\n",
    "# urltype http://HOST[:PORT]/PATH/athena/INSTANCE/[DIMENSION[/CODE[,CODE2[,CODEn]][.EXTENSION][?QUERY_PARAMETERS]]]\n",
    "\n",
    "url = \"https://apps.who.int/gho/athena/api/GHO.json\"\n",
    "\n",
    "# Get data\n",
    "response = requests.get(url)\n",
    "data = response.json()\n",
    "# pprint(data)\n",
    "\n",
    "datapd = pd.DataFrame(data['dimension'][0]['code'])\n",
    "\n",
    "d2 = datapd.drop(['display_sequence', 'attr', 'url'], axis=1)\n",
    "\n",
    "search = ['vehicle', 'crash', 'road', 'drink', ' bac', 'seat-belt', 'child restraints', 'speed', 'motorcycle']\n",
    "\n",
    "search2 = ['RS_']\n",
    "\n",
    "d3 = d2[d2.label.str.contains('|'.join(search2))]\n",
    "\n",
    "d3.to_csv('whoout.csv')                      \n",
    "\n",
    "url2 = \"https://apps.who.int/gho/athena/data/GHO/WHOSIS_000001.json?profile=simple&filter=COUNTRY:*\"\n",
    "\n",
    "# Get data\n",
    "response2 = requests.get(url2)\n",
    "data2 = response2.json()\n",
    "# pprint(data)\n",
    "\n",
    "#Registered Vehicles\n",
    "print(f\"Country: {data2['fact'][0]['dim']['COUNTRY']}\")\n",
    "print(f\"Registered vehicles: {data2['fact'][0]['Value']}\")"
   ]
  }
 ],
 "metadata": {
  "hide_input": false,
  "kernelspec": {
   "display_name": "Python 3",
   "language": "python",
   "name": "python3"
  },
  "language_info": {
   "codemirror_mode": {
    "name": "ipython",
    "version": 3
   },
   "file_extension": ".py",
   "mimetype": "text/x-python",
   "name": "python",
   "nbconvert_exporter": "python",
   "pygments_lexer": "ipython3",
   "version": "3.7.9"
  },
  "varInspector": {
   "cols": {
    "lenName": "40",
    "lenType": 16,
    "lenVar": 40
   },
   "kernels_config": {
    "python": {
     "delete_cmd_postfix": "",
     "delete_cmd_prefix": "del ",
     "library": "var_list.py",
     "varRefreshCmd": "print(var_dic_list())"
    },
    "r": {
     "delete_cmd_postfix": ") ",
     "delete_cmd_prefix": "rm(",
     "library": "var_list.r",
     "varRefreshCmd": "cat(var_dic_list()) "
    }
   },
   "types_to_exclude": [
    "module",
    "function",
    "builtin_function_or_method",
    "instance",
    "_Feature"
   ],
   "window_display": false
  }
 },
 "nbformat": 4,
 "nbformat_minor": 4
}
