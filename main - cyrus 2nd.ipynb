{
 "cells": [
  {
   "cell_type": "code",
   "execution_count": 1,
   "metadata": {
    "ExecuteTime": {
     "end_time": "2020-10-23T14:15:19.210380Z",
     "start_time": "2020-10-23T14:15:18.180896Z"
    }
   },
   "outputs": [
    {
     "name": "stderr",
     "output_type": "stream",
     "text": [
      "/Users/theoscat/opt/anaconda3/envs/bcs/lib/python3.7/site-packages/IPython/core/interactiveshell.py:3146: DtypeWarning: Columns (10,14,15,16,17) have mixed types.Specify dtype option on import or set low_memory=False.\n",
      "  interactivity=interactivity, compiler=compiler, result=result)\n"
     ]
    },
    {
     "data": {
      "text/html": [
       "<div>\n",
       "<style scoped>\n",
       "    .dataframe tbody tr th:only-of-type {\n",
       "        vertical-align: middle;\n",
       "    }\n",
       "\n",
       "    .dataframe tbody tr th {\n",
       "        vertical-align: top;\n",
       "    }\n",
       "\n",
       "    .dataframe thead th {\n",
       "        text-align: right;\n",
       "    }\n",
       "</style>\n",
       "<table border=\"1\" class=\"dataframe\">\n",
       "  <thead>\n",
       "    <tr style=\"text-align: right;\">\n",
       "      <th></th>\n",
       "      <th>Crash ID</th>\n",
       "      <th>State</th>\n",
       "      <th>Month</th>\n",
       "      <th>Year</th>\n",
       "      <th>Dayweek</th>\n",
       "      <th>Time</th>\n",
       "      <th>Crash Type</th>\n",
       "      <th>Bus Involvement</th>\n",
       "      <th>Heavy Rigid Truck Involvement</th>\n",
       "      <th>Articulated Truck Involvement</th>\n",
       "      <th>...</th>\n",
       "      <th>Age</th>\n",
       "      <th>National Remoteness Areas</th>\n",
       "      <th>SA4 Name 2016</th>\n",
       "      <th>National LGA Name 2017</th>\n",
       "      <th>National Road Type</th>\n",
       "      <th>Christmas Period</th>\n",
       "      <th>Easter Period</th>\n",
       "      <th>Age Group</th>\n",
       "      <th>Day of week</th>\n",
       "      <th>Time of day</th>\n",
       "    </tr>\n",
       "  </thead>\n",
       "  <tbody>\n",
       "    <tr>\n",
       "      <th>0</th>\n",
       "      <td>20202012</td>\n",
       "      <td>Vic</td>\n",
       "      <td>9</td>\n",
       "      <td>2020</td>\n",
       "      <td>Monday</td>\n",
       "      <td>3:11</td>\n",
       "      <td>Single</td>\n",
       "      <td>-9</td>\n",
       "      <td>-9</td>\n",
       "      <td>-9</td>\n",
       "      <td>...</td>\n",
       "      <td>16</td>\n",
       "      <td>Inner Regional Australia</td>\n",
       "      <td>Bendigo</td>\n",
       "      <td>Greater Bendigo (C)</td>\n",
       "      <td>National or State Highway</td>\n",
       "      <td>No</td>\n",
       "      <td>No</td>\n",
       "      <td>0_to_16</td>\n",
       "      <td>Weekend</td>\n",
       "      <td>Night</td>\n",
       "    </tr>\n",
       "  </tbody>\n",
       "</table>\n",
       "<p>1 rows × 23 columns</p>\n",
       "</div>"
      ],
      "text/plain": [
       "   Crash ID State  Month  Year Dayweek  Time Crash Type Bus Involvement  \\\n",
       "0  20202012   Vic      9  2020  Monday  3:11     Single              -9   \n",
       "\n",
       "  Heavy Rigid Truck Involvement Articulated Truck Involvement  ... Age  \\\n",
       "0                            -9                            -9  ...  16   \n",
       "\n",
       "  National Remoteness Areas SA4 Name 2016  National LGA Name 2017  \\\n",
       "0  Inner Regional Australia       Bendigo     Greater Bendigo (C)   \n",
       "\n",
       "          National Road Type Christmas Period Easter Period Age Group  \\\n",
       "0  National or State Highway               No            No   0_to_16   \n",
       "\n",
       "  Day of week Time of day  \n",
       "0     Weekend       Night  \n",
       "\n",
       "[1 rows x 23 columns]"
      ]
     },
     "execution_count": 1,
     "metadata": {},
     "output_type": "execute_result"
    }
   ],
   "source": [
    "# dependencies and Setup\n",
    "import matplotlib.pyplot as plt\n",
    "import numpy as np\n",
    "import pandas as pd\n",
    "import scipy.stats as st\n",
    "from scipy.stats import linregress\n",
    "\n",
    "# raw data files\n",
    "ardd_path = \"data_raw/ardd_fatalities Sep 2020.csv\"\n",
    "\n",
    "# read the mouse data and the death by type rate\n",
    "# add header = 1 to remove the extra row in the CSV file\n",
    "ardd = pd.read_csv(ardd_path)\n",
    "\n",
    "ardd.head(1)"
   ]
  },
  {
   "cell_type": "code",
   "execution_count": 5,
   "metadata": {
    "ExecuteTime": {
     "end_time": "2020-10-23T14:15:37.398476Z",
     "start_time": "2020-10-23T14:15:37.246824Z"
    }
   },
   "outputs": [
    {
     "data": {
      "text/html": [
       "<div>\n",
       "<style scoped>\n",
       "    .dataframe tbody tr th:only-of-type {\n",
       "        vertical-align: middle;\n",
       "    }\n",
       "\n",
       "    .dataframe tbody tr th {\n",
       "        vertical-align: top;\n",
       "    }\n",
       "\n",
       "    .dataframe thead th {\n",
       "        text-align: right;\n",
       "    }\n",
       "</style>\n",
       "<table border=\"1\" class=\"dataframe\">\n",
       "  <thead>\n",
       "    <tr style=\"text-align: right;\">\n",
       "      <th></th>\n",
       "      <th>Crash ID</th>\n",
       "      <th>State</th>\n",
       "      <th>Month</th>\n",
       "      <th>Year</th>\n",
       "      <th>Dayweek</th>\n",
       "      <th>Time</th>\n",
       "      <th>Crash Type</th>\n",
       "      <th>Bus Involvement</th>\n",
       "      <th>Heavy Rigid Truck Involvement</th>\n",
       "      <th>Articulated Truck Involvement</th>\n",
       "      <th>Speed Limit</th>\n",
       "      <th>Road User</th>\n",
       "      <th>Gender</th>\n",
       "      <th>Age</th>\n",
       "      <th>Christmas Period</th>\n",
       "      <th>Easter Period</th>\n",
       "      <th>Age Group</th>\n",
       "      <th>Day of week</th>\n",
       "      <th>Time of day</th>\n",
       "    </tr>\n",
       "  </thead>\n",
       "  <tbody>\n",
       "    <tr>\n",
       "      <th>0</th>\n",
       "      <td>20202012</td>\n",
       "      <td>Vic</td>\n",
       "      <td>9</td>\n",
       "      <td>2020</td>\n",
       "      <td>Monday</td>\n",
       "      <td>311</td>\n",
       "      <td>Single</td>\n",
       "      <td>Unknown</td>\n",
       "      <td>Unknown</td>\n",
       "      <td>Unknown</td>\n",
       "      <td>Unknown</td>\n",
       "      <td>Passenger</td>\n",
       "      <td>Male</td>\n",
       "      <td>16</td>\n",
       "      <td>No</td>\n",
       "      <td>No</td>\n",
       "      <td>0 to 16</td>\n",
       "      <td>Weekend</td>\n",
       "      <td>Night</td>\n",
       "    </tr>\n",
       "  </tbody>\n",
       "</table>\n",
       "</div>"
      ],
      "text/plain": [
       "   Crash ID State  Month  Year Dayweek Time Crash Type Bus Involvement  \\\n",
       "0  20202012   Vic      9  2020  Monday  311     Single         Unknown   \n",
       "\n",
       "  Heavy Rigid Truck Involvement Articulated Truck Involvement Speed Limit  \\\n",
       "0                       Unknown                       Unknown     Unknown   \n",
       "\n",
       "   Road User Gender  Age Christmas Period Easter Period Age Group Day of week  \\\n",
       "0  Passenger   Male   16               No            No   0 to 16     Weekend   \n",
       "\n",
       "  Time of day  \n",
       "0       Night  "
      ]
     },
     "execution_count": 5,
     "metadata": {},
     "output_type": "execute_result"
    }
   ],
   "source": [
    "# remove unwanted columns \"National Remoteness Areas\",\"SA4 Name 2016\",\"National LGA Name 2017\",\"National Road Type\"\n",
    "clean_ardd = ardd.drop(columns=[\"National Remoteness Areas\",\"SA4 Name 2016\",\"National LGA Name 2017\",\"National Road Type\"])\n",
    "\n",
    "\n",
    "\n",
    "# gather latest and earliest year for the title\n",
    "min_year = clean_ardd[\"Year\"].min()\n",
    "max_year = clean_ardd[\"Year\"].max()\n",
    "\n",
    "# replace the \"_\" with \" \" in column \"Age Group\"\n",
    "clean_ardd[\"Age Group\"] = clean_ardd[\"Age Group\"].str.replace(\"_\",\" \")\n",
    "\n",
    "# remove the \":\" in column \"Time\"\n",
    "clean_ardd[\"Time\"] = clean_ardd[\"Time\"].str.replace(\":\",\"\")\n",
    "\n",
    "# replace \"-9\" with Unknown as described in the data dictionary\n",
    "clean_ardd=clean_ardd.replace({\"-9\":\"Unknown\"})\n",
    "clean_ardd.head(1)"
   ]
  },
  {
   "cell_type": "code",
   "execution_count": 6,
   "metadata": {
    "ExecuteTime": {
     "end_time": "2020-10-23T14:15:39.772628Z",
     "start_time": "2020-10-23T14:15:39.763514Z"
    },
    "scrolled": true
   },
   "outputs": [
    {
     "data": {
      "text/plain": [
       "Male           36980\n",
       "Female         14714\n",
       "Unknown           26\n",
       "Unspecified        1\n",
       "Name: Gender, dtype: int64"
      ]
     },
     "execution_count": 6,
     "metadata": {},
     "output_type": "execute_result"
    }
   ],
   "source": [
    "clean_ardd['Gender'].value_counts()"
   ]
  },
  {
   "cell_type": "code",
   "execution_count": 7,
   "metadata": {
    "ExecuteTime": {
     "end_time": "2020-10-23T14:15:47.195384Z",
     "start_time": "2020-10-23T14:15:47.067542Z"
    }
   },
   "outputs": [
    {
     "data": {
      "image/png": "[encoded data removed]",
      "text/plain": [
       "<Figure size 576x576 with 1 Axes>"
      ]
     },
     "metadata": {},
     "output_type": "display_data"
    }
   ],
   "source": [
    "# Generate a pie plot showing the distribution of female versus male mice using pandas\n",
    "gender_df = clean_ardd[[\"Crash ID\",\"Gender\"]]\n",
    "groupby_gender = gender_df.groupby([\"Gender\"])\n",
    "\n",
    "# calculate count\n",
    "count = groupby_gender[\"Crash ID\"].count()\n",
    "\n",
    "# create a dataframe to hold Sex and Count\n",
    "groupby_gender_df = pd.DataFrame({\"Count\": count\n",
    "                           })\n",
    "\n",
    "# set the explode value\n",
    "explode=[0,0.1,0.1,0.1]\n",
    "plot = groupby_gender_df.plot.pie(y=\"Count\",explode = explode, figsize=(8,8), startangle=0, autopct=\"%1.1f%%\")\n",
    "plt.title(f\"Gender Fatality Distribution between {min_year} to {max_year}\")\n",
    "plt.show()"
   ]
  },
  {
   "cell_type": "code",
   "execution_count": 8,
   "metadata": {
    "ExecuteTime": {
     "end_time": "2020-10-23T14:15:53.321679Z",
     "start_time": "2020-10-23T14:15:53.192738Z"
    }
   },
   "outputs": [
    {
     "data": {
      "image/png": "[encoded data removed]",
      "text/plain": [
       "<Figure size 576x576 with 1 Axes>"
      ]
     },
     "metadata": {},
     "output_type": "display_data"
    }
   ],
   "source": [
    "# Generate a pie plot showing the distribution of female versus male mice using pandas\n",
    "ageg_df = clean_ardd[[\"Crash ID\",\"Age Group\"]]\n",
    "groupby_ageg = ageg_df.groupby([\"Age Group\"])\n",
    "\n",
    "# calculate count\n",
    "count = groupby_ageg[\"Crash ID\"].count()\n",
    "\n",
    "# create a dataframe to hold Sex and Count\n",
    "groupby_ageg_df = pd.DataFrame({\"Count\": count\n",
    "                           })\n",
    "\n",
    "# set the explode value\n",
    "explode=[0.1,0.1,0.1,0.1,0.1,0.1,0.1]\n",
    "\n",
    "plot = groupby_ageg_df.plot.pie(y=\"Count\",explode = explode, figsize=(8,8), startangle=0, autopct=\"%1.1f%%\")\n",
    "plt.title(f\"Fatality Distribution amongst Age Group between {min_year} to {max_year}\")\n",
    "plt.show()"
   ]
  },
  {
   "cell_type": "code",
   "execution_count": 10,
   "metadata": {
    "ExecuteTime": {
     "end_time": "2020-10-23T14:16:20.734957Z",
     "start_time": "2020-10-23T14:16:20.704817Z"
    }
   },
   "outputs": [
    {
     "name": "stderr",
     "output_type": "stream",
     "text": [
      "/Users/theoscat/opt/anaconda3/envs/bcs/lib/python3.7/site-packages/ipykernel_launcher.py:3: SettingWithCopyWarning: \n",
      "A value is trying to be set on a copy of a slice from a DataFrame.\n",
      "Try using .loc[row_indexer,col_indexer] = value instead\n",
      "\n",
      "See the caveats in the documentation: https://pandas.pydata.org/pandas-docs/stable/user_guide/indexing.html#returning-a-view-versus-a-copy\n",
      "  This is separate from the ipykernel package so we can avoid doing imports until\n"
     ]
    },
    {
     "data": {
      "text/html": [
       "<div>\n",
       "<style scoped>\n",
       "    .dataframe tbody tr th:only-of-type {\n",
       "        vertical-align: middle;\n",
       "    }\n",
       "\n",
       "    .dataframe tbody tr th {\n",
       "        vertical-align: top;\n",
       "    }\n",
       "\n",
       "    .dataframe thead th {\n",
       "        text-align: right;\n",
       "    }\n",
       "</style>\n",
       "<table border=\"1\" class=\"dataframe\">\n",
       "  <thead>\n",
       "    <tr style=\"text-align: right;\">\n",
       "      <th></th>\n",
       "      <th>Crash ID</th>\n",
       "      <th>State</th>\n",
       "      <th>Month</th>\n",
       "      <th>Year</th>\n",
       "      <th>Dayweek</th>\n",
       "      <th>Time</th>\n",
       "      <th>Crash Type</th>\n",
       "      <th>Bus Involvement</th>\n",
       "      <th>Heavy Rigid Truck Involvement</th>\n",
       "      <th>Articulated Truck Involvement</th>\n",
       "      <th>Speed Limit</th>\n",
       "      <th>Road User</th>\n",
       "      <th>Gender</th>\n",
       "      <th>Age</th>\n",
       "      <th>Christmas Period</th>\n",
       "      <th>Easter Period</th>\n",
       "      <th>Age Group</th>\n",
       "      <th>Day of week</th>\n",
       "      <th>Time of day</th>\n",
       "    </tr>\n",
       "  </thead>\n",
       "  <tbody>\n",
       "    <tr>\n",
       "      <th>0</th>\n",
       "      <td>20202012</td>\n",
       "      <td>Vic</td>\n",
       "      <td>9</td>\n",
       "      <td>2020</td>\n",
       "      <td>Monday</td>\n",
       "      <td>311</td>\n",
       "      <td>Single</td>\n",
       "      <td>Unknown</td>\n",
       "      <td>Unknown</td>\n",
       "      <td>Unknown</td>\n",
       "      <td>Unknown</td>\n",
       "      <td>Passenger</td>\n",
       "      <td>Male</td>\n",
       "      <td>16</td>\n",
       "      <td>No</td>\n",
       "      <td>No</td>\n",
       "      <td>0 to 16</td>\n",
       "      <td>Weekend</td>\n",
       "      <td>Night</td>\n",
       "    </tr>\n",
       "    <tr>\n",
       "      <th>1</th>\n",
       "      <td>20202008</td>\n",
       "      <td>Vic</td>\n",
       "      <td>9</td>\n",
       "      <td>2020</td>\n",
       "      <td>Saturday</td>\n",
       "      <td>2255</td>\n",
       "      <td>Multiple</td>\n",
       "      <td>Unknown</td>\n",
       "      <td>Unknown</td>\n",
       "      <td>Unknown</td>\n",
       "      <td>Unknown</td>\n",
       "      <td>Driver</td>\n",
       "      <td>Male</td>\n",
       "      <td>27</td>\n",
       "      <td>No</td>\n",
       "      <td>No</td>\n",
       "      <td>26 to 39</td>\n",
       "      <td>Weekend</td>\n",
       "      <td>Night</td>\n",
       "    </tr>\n",
       "    <tr>\n",
       "      <th>2</th>\n",
       "      <td>20203042</td>\n",
       "      <td>Qld</td>\n",
       "      <td>9</td>\n",
       "      <td>2020</td>\n",
       "      <td>Thursday</td>\n",
       "      <td>2300</td>\n",
       "      <td>Single</td>\n",
       "      <td>No</td>\n",
       "      <td>No</td>\n",
       "      <td>No</td>\n",
       "      <td>100</td>\n",
       "      <td>Driver</td>\n",
       "      <td>Male</td>\n",
       "      <td>31</td>\n",
       "      <td>No</td>\n",
       "      <td>No</td>\n",
       "      <td>26 to 39</td>\n",
       "      <td>Weekday</td>\n",
       "      <td>Night</td>\n",
       "    </tr>\n",
       "    <tr>\n",
       "      <th>3</th>\n",
       "      <td>20203024</td>\n",
       "      <td>Qld</td>\n",
       "      <td>9</td>\n",
       "      <td>2020</td>\n",
       "      <td>Friday</td>\n",
       "      <td>1800</td>\n",
       "      <td>Single</td>\n",
       "      <td>No</td>\n",
       "      <td>No</td>\n",
       "      <td>No</td>\n",
       "      <td>80</td>\n",
       "      <td>Motorcycle rider</td>\n",
       "      <td>Male</td>\n",
       "      <td>29</td>\n",
       "      <td>No</td>\n",
       "      <td>No</td>\n",
       "      <td>26 to 39</td>\n",
       "      <td>Weekend</td>\n",
       "      <td>Night</td>\n",
       "    </tr>\n",
       "    <tr>\n",
       "      <th>4</th>\n",
       "      <td>20202070</td>\n",
       "      <td>Vic</td>\n",
       "      <td>9</td>\n",
       "      <td>2020</td>\n",
       "      <td>Sunday</td>\n",
       "      <td>800</td>\n",
       "      <td>Single</td>\n",
       "      <td>Unknown</td>\n",
       "      <td>Unknown</td>\n",
       "      <td>Unknown</td>\n",
       "      <td>Unknown</td>\n",
       "      <td>Driver</td>\n",
       "      <td>Male</td>\n",
       "      <td>20</td>\n",
       "      <td>No</td>\n",
       "      <td>No</td>\n",
       "      <td>17 to 25</td>\n",
       "      <td>Weekend</td>\n",
       "      <td>Day</td>\n",
       "    </tr>\n",
       "  </tbody>\n",
       "</table>\n",
       "</div>"
      ],
      "text/plain": [
       "   Crash ID State  Month  Year   Dayweek  Time Crash Type Bus Involvement  \\\n",
       "0  20202012   Vic      9  2020    Monday   311     Single         Unknown   \n",
       "1  20202008   Vic      9  2020  Saturday  2255   Multiple         Unknown   \n",
       "2  20203042   Qld      9  2020  Thursday  2300     Single              No   \n",
       "3  20203024   Qld      9  2020    Friday  1800     Single              No   \n",
       "4  20202070   Vic      9  2020    Sunday   800     Single         Unknown   \n",
       "\n",
       "  Heavy Rigid Truck Involvement Articulated Truck Involvement Speed Limit  \\\n",
       "0                       Unknown                       Unknown     Unknown   \n",
       "1                       Unknown                       Unknown     Unknown   \n",
       "2                            No                            No         100   \n",
       "3                            No                            No          80   \n",
       "4                       Unknown                       Unknown     Unknown   \n",
       "\n",
       "          Road User Gender  Age Christmas Period Easter Period Age Group  \\\n",
       "0         Passenger   Male   16               No            No   0 to 16   \n",
       "1            Driver   Male   27               No            No  26 to 39   \n",
       "2            Driver   Male   31               No            No  26 to 39   \n",
       "3  Motorcycle rider   Male   29               No            No  26 to 39   \n",
       "4            Driver   Male   20               No            No  17 to 25   \n",
       "\n",
       "  Day of week Time of day  \n",
       "0     Weekend       Night  \n",
       "1     Weekend       Night  \n",
       "2     Weekday       Night  \n",
       "3     Weekend       Night  \n",
       "4     Weekend         Day  "
      ]
     },
     "execution_count": 10,
     "metadata": {},
     "output_type": "execute_result"
    }
   ],
   "source": [
    "# capture fatality data after 2000\n",
    "df = clean_ardd[clean_ardd.Time != \"Unknown\"]\n",
    "df['Year'] = df['Year'].astype(int)\n",
    "df = df.loc[df['Year'] >= 2000]\n",
    "df.head()"
   ]
  },
  {
   "cell_type": "code",
   "execution_count": 11,
   "metadata": {
    "ExecuteTime": {
     "end_time": "2020-10-23T14:16:59.563365Z",
     "start_time": "2020-10-23T14:16:59.544428Z"
    }
   },
   "outputs": [
    {
     "data": {
      "text/html": [
       "<div>\n",
       "<style scoped>\n",
       "    .dataframe tbody tr th:only-of-type {\n",
       "        vertical-align: middle;\n",
       "    }\n",
       "\n",
       "    .dataframe tbody tr th {\n",
       "        vertical-align: top;\n",
       "    }\n",
       "\n",
       "    .dataframe thead th {\n",
       "        text-align: right;\n",
       "    }\n",
       "</style>\n",
       "<table border=\"1\" class=\"dataframe\">\n",
       "  <thead>\n",
       "    <tr style=\"text-align: right;\">\n",
       "      <th></th>\n",
       "      <th>Time</th>\n",
       "      <th>Count</th>\n",
       "    </tr>\n",
       "  </thead>\n",
       "  <tbody>\n",
       "    <tr>\n",
       "      <th>22</th>\n",
       "      <td>0</td>\n",
       "      <td>236</td>\n",
       "    </tr>\n",
       "    <tr>\n",
       "      <th>101</th>\n",
       "      <td>1</td>\n",
       "      <td>69</td>\n",
       "    </tr>\n",
       "    <tr>\n",
       "      <th>343</th>\n",
       "      <td>2</td>\n",
       "      <td>9</td>\n",
       "    </tr>\n",
       "    <tr>\n",
       "      <th>697</th>\n",
       "      <td>3</td>\n",
       "      <td>4</td>\n",
       "    </tr>\n",
       "    <tr>\n",
       "      <th>631</th>\n",
       "      <td>4</td>\n",
       "      <td>5</td>\n",
       "    </tr>\n",
       "    <tr>\n",
       "      <th>...</th>\n",
       "      <td>...</td>\n",
       "      <td>...</td>\n",
       "    </tr>\n",
       "    <tr>\n",
       "      <th>199</th>\n",
       "      <td>2355</td>\n",
       "      <td>43</td>\n",
       "    </tr>\n",
       "    <tr>\n",
       "      <th>847</th>\n",
       "      <td>2356</td>\n",
       "      <td>4</td>\n",
       "    </tr>\n",
       "    <tr>\n",
       "      <th>771</th>\n",
       "      <td>2357</td>\n",
       "      <td>4</td>\n",
       "    </tr>\n",
       "    <tr>\n",
       "      <th>372</th>\n",
       "      <td>2358</td>\n",
       "      <td>8</td>\n",
       "    </tr>\n",
       "    <tr>\n",
       "      <th>421</th>\n",
       "      <td>2359</td>\n",
       "      <td>7</td>\n",
       "    </tr>\n",
       "  </tbody>\n",
       "</table>\n",
       "<p>1376 rows × 2 columns</p>\n",
       "</div>"
      ],
      "text/plain": [
       "     Time  Count\n",
       "22      0    236\n",
       "101     1     69\n",
       "343     2      9\n",
       "697     3      4\n",
       "631     4      5\n",
       "..    ...    ...\n",
       "199  2355     43\n",
       "847  2356      4\n",
       "771  2357      4\n",
       "372  2358      8\n",
       "421  2359      7\n",
       "\n",
       "[1376 rows x 2 columns]"
      ]
     },
     "execution_count": 11,
     "metadata": {},
     "output_type": "execute_result"
    }
   ],
   "source": [
    "# capture fatality data after year 2010\n",
    "c_df = df.loc[df['Year'] >= 2010]\n",
    "c_df = df.Time.value_counts().reset_index().rename(columns={'index': 'Time', 'Time': 'Count'})\n",
    "\n",
    "# update data type to integer\n",
    "c_df['Time'] = c_df['Time'].astype(int)\n",
    "\n",
    "# sort result by Time\n",
    "c_df = c_df.sort_values(by='Time', ascending=True)\n",
    "c_df"
   ]
  },
  {
   "cell_type": "code",
   "execution_count": 98,
   "metadata": {
    "ExecuteTime": {
     "end_time": "2020-10-23T14:56:50.165757Z",
     "start_time": "2020-10-23T14:56:49.860141Z"
    }
   },
   "outputs": [
    {
     "data": {
      "image/png": "[encoded data removed]",
      "text/plain": [
       "<Figure size 1152x432 with 1 Axes>"
      ]
     },
     "metadata": {
      "needs_background": "light"
     },
     "output_type": "display_data"
    }
   ],
   "source": [
    "# plot graph to show Time vs Deaths after 2010\n",
    "fig, ax = plt.subplots(figsize=(16, 6))\n",
    "# marker_size=5\n",
    "\n",
    "# arrange the x interval\n",
    "plt.xticks(np.arange(0, 2400, step=100))\n",
    "\n",
    "plt.scatter(c_df['Time'].map(\"{:04}\".format),c_df['Count'], s= 30 ,marker = \"*\")\n",
    "plt.title('Time vs Deaths after 2010',fontsize =20)\n",
    "plt.xlabel('Time',fontsize =14)\n",
    "plt.ylabel('Count',fontsize =14)\n",
    "ax.grid()\n",
    "\n",
    "# highlight the number of fatalities that's with the greatest trend\n",
    "cc_df = c_df.query('Count >= 200')\n",
    "plt.scatter(cc_df[\"Time\"].map(\"{:04}\".format), cc_df[\"Count\"],  alpha=1, color=\"red\" , marker=\"o\")\n",
    "\n",
    "plt.show()"
   ]
  },
  {
   "cell_type": "code",
   "execution_count": null,
   "metadata": {
    "ExecuteTime": {
     "end_time": "2020-10-23T13:48:21.034298Z",
     "start_time": "2020-10-23T13:48:20.990454Z"
    }
   },
   "outputs": [],
   "source": [
    "# # df = clean_ardd[clean_ardd.Time != \"Unknown\"]\n",
    "# df = df[[\"Time\",\"Dayweek\"]]\n",
    "# df[\"Dayweek No.\"] = df[\"Dayweek\"].str.replace('Monday','1')\\\n",
    "# .replace('Tuesday',\"2\")\\\n",
    "# .replace('Wednesday',\"3\")\\\n",
    "# .replace('Thursday',\"4\")\\\n",
    "# .replace('Friday',\"5\")\\\n",
    "# .replace('Saturday',\"6\")\\\n",
    "# .replace('Sunday',\"7\")\n",
    "# df = df.sort_values(by=['Dayweek No.'], ascending=True)\n",
    "# df"
   ]
  },
  {
   "cell_type": "code",
   "execution_count": 110,
   "metadata": {
    "ExecuteTime": {
     "end_time": "2020-10-23T15:04:01.386642Z",
     "start_time": "2020-10-23T15:04:01.262539Z"
    }
   },
   "outputs": [
    {
     "data": {
      "image/png": "[encoded data removed]",
      "text/plain": [
       "<Figure size 432x288 with 1 Axes>"
      ]
     },
     "metadata": {
      "needs_background": "light"
     },
     "output_type": "display_data"
    }
   ],
   "source": [
    "# Generate a pie plot showing the distribution of female versus male mice using pandas\n",
    "dc_df = clean_ardd[[\"Dayweek\",\"Crash ID\"]]\n",
    "\n",
    "# group by the Day of Week and count the number of fatality\n",
    "groupby_dayweek = dc_df.groupby([\"Dayweek\"])\n",
    "\n",
    "# calculate count\n",
    "count = groupby_dayweek[\"Crash ID\"].count()\n",
    "\n",
    "# create a dataframe to hold Sex and Count\n",
    "groupby_dayweek_df = pd.DataFrame({\"Count\": count\n",
    "                           })\n",
    "\n",
    "# manually rearrange the Day of Week index\n",
    "groupby_dayweek_df = groupby_dayweek_df.reindex(['Sunday','Monday', 'Tuesday', 'Wednesday', 'Thursday','Friday','Saturday'])\n",
    "\n",
    "# plot the graph\n",
    "plt.plot(groupby_dayweek_df, marker = \"x\")\n",
    "\n",
    "plt.title(f\"Day of Week vs. Fatality since {min_year}\",fontsize =20)\n",
    "plt.ylabel(\"No. Fatality\",fontsize =14)\n",
    "plt.xlabel(\"Day of Week\",fontsize =14)\n",
    "plt.show()"
   ]
  }
 ],
 "metadata": {
  "kernelspec": {
   "display_name": "Python 3",
   "language": "python",
   "name": "python3"
  },
  "language_info": {
   "codemirror_mode": {
    "name": "ipython",
    "version": 3
   },
   "file_extension": ".py",
   "mimetype": "text/x-python",
   "name": "python",
   "nbconvert_exporter": "python",
   "pygments_lexer": "ipython3",
   "version": "3.7.9"
  },
  "varInspector": {
   "cols": {
    "lenName": 16,
    "lenType": 16,
    "lenVar": 40
   },
   "kernels_config": {
    "python": {
     "delete_cmd_postfix": "",
     "delete_cmd_prefix": "del ",
     "library": "var_list.py",
     "varRefreshCmd": "print(var_dic_list())"
    },
    "r": {
     "delete_cmd_postfix": ") ",
     "delete_cmd_prefix": "rm(",
     "library": "var_list.r",
     "varRefreshCmd": "cat(var_dic_list()) "
    }
   },
   "types_to_exclude": [
    "module",
    "function",
    "builtin_function_or_method",
    "instance",
    "_Feature"
   ],
   "window_display": false
  }
 },
 "nbformat": 4,
 "nbformat_minor": 4
}
