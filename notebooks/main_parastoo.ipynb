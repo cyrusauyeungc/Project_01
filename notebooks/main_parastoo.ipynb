{
 "cells": [
  {
   "cell_type": "code",
   "execution_count": 1,
   "metadata": {
    "ExecuteTime": {
     "end_time": "2020-10-25T16:45:35.702201Z",
     "start_time": "2020-10-25T16:45:32.765882Z"
    }
   },
   "outputs": [],
   "source": [
    "# Import Dependencies\n",
    "import matplotlib.pyplot as plt\n",
    "import pandas as pd\n",
    "import numpy as np\n",
    "import json\n",
    "import requests\n",
    "import gmaps\n",
    "import os\n",
    "from pprint import pprint\n",
    "from scipy.stats import linregress\n",
    "from scipy import stats\n",
    "import seaborn as sb\n",
    "from sklearn import preprocessing\n",
    "from mlxtend.preprocessing import standardize"
   ]
  },
  {
   "cell_type": "code",
   "execution_count": 2,
   "metadata": {
    "ExecuteTime": {
     "end_time": "2020-10-25T16:45:35.995229Z",
     "start_time": "2020-10-25T16:45:35.733392Z"
    },
    "scrolled": true
   },
   "outputs": [
    {
     "data": {
      "text/html": [
       "<div>\n",
       "<style scoped>\n",
       "    .dataframe tbody tr th:only-of-type {\n",
       "        vertical-align: middle;\n",
       "    }\n",
       "\n",
       "    .dataframe tbody tr th {\n",
       "        vertical-align: top;\n",
       "    }\n",
       "\n",
       "    .dataframe thead th {\n",
       "        text-align: right;\n",
       "    }\n",
       "</style>\n",
       "<table border=\"1\" class=\"dataframe\">\n",
       "  <thead>\n",
       "    <tr style=\"text-align: right;\">\n",
       "      <th></th>\n",
       "      <th>country</th>\n",
       "      <th>population</th>\n",
       "      <th>income</th>\n",
       "      <th>number of deaths</th>\n",
       "      <th>estimated road death</th>\n",
       "      <th>seat belt law</th>\n",
       "      <th>seat belt drivers</th>\n",
       "      <th>seat belt front seat</th>\n",
       "      <th>seat belt rear seat</th>\n",
       "      <th>rates seat belt drivers</th>\n",
       "      <th>...</th>\n",
       "      <th>rates seat belt all</th>\n",
       "      <th>child restraint law</th>\n",
       "      <th>child restraints</th>\n",
       "      <th>standard specified</th>\n",
       "      <th>child seated in front</th>\n",
       "      <th>percentage child restraints</th>\n",
       "      <th>mobile phone law</th>\n",
       "      <th>hand_held phone</th>\n",
       "      <th>hand_free phone</th>\n",
       "      <th>any_data phone</th>\n",
       "    </tr>\n",
       "  </thead>\n",
       "  <tbody>\n",
       "    <tr>\n",
       "      <th>0</th>\n",
       "      <td>Argentina</td>\n",
       "      <td>43847432</td>\n",
       "      <td>Middle</td>\n",
       "      <td>5530</td>\n",
       "      <td>14.0</td>\n",
       "      <td>Yes</td>\n",
       "      <td>Yes</td>\n",
       "      <td>Yes</td>\n",
       "      <td>Yes</td>\n",
       "      <td>50.2</td>\n",
       "      <td>...</td>\n",
       "      <td>43.6</td>\n",
       "      <td>Yes</td>\n",
       "      <td>Up to 4 yrs</td>\n",
       "      <td>No</td>\n",
       "      <td>Prohibited under 10 yrs</td>\n",
       "      <td>26.4</td>\n",
       "      <td>Yes</td>\n",
       "      <td>Yes</td>\n",
       "      <td>Yes</td>\n",
       "      <td>Yes</td>\n",
       "    </tr>\n",
       "    <tr>\n",
       "      <th>1</th>\n",
       "      <td>Australia</td>\n",
       "      <td>24125848</td>\n",
       "      <td>High</td>\n",
       "      <td>1296</td>\n",
       "      <td>5.6</td>\n",
       "      <td>Yes</td>\n",
       "      <td>Yes</td>\n",
       "      <td>Yes</td>\n",
       "      <td>Yes</td>\n",
       "      <td>95</td>\n",
       "      <td>...</td>\n",
       "      <td>95</td>\n",
       "      <td>Yes</td>\n",
       "      <td>Up to 7 yrs</td>\n",
       "      <td>Yes</td>\n",
       "      <td>Prohibited under 7 yrs</td>\n",
       "      <td>63</td>\n",
       "      <td>Yes</td>\n",
       "      <td>Yes</td>\n",
       "      <td>No</td>\n",
       "      <td>Yes</td>\n",
       "    </tr>\n",
       "    <tr>\n",
       "      <th>2</th>\n",
       "      <td>Belgium</td>\n",
       "      <td>11358379</td>\n",
       "      <td>High</td>\n",
       "      <td>637</td>\n",
       "      <td>5.8</td>\n",
       "      <td>Yes</td>\n",
       "      <td>Yes</td>\n",
       "      <td>Yes</td>\n",
       "      <td>Yes</td>\n",
       "      <td>91.5</td>\n",
       "      <td>...</td>\n",
       "      <td>91.7</td>\n",
       "      <td>Yes</td>\n",
       "      <td>Up to 18 yrs / 135 cm</td>\n",
       "      <td>Yes</td>\n",
       "      <td>Allowed in a child restraint restraint</td>\n",
       "      <td>89</td>\n",
       "      <td>Yes</td>\n",
       "      <td>Yes</td>\n",
       "      <td>No</td>\n",
       "      <td>Yes</td>\n",
       "    </tr>\n",
       "    <tr>\n",
       "      <th>3</th>\n",
       "      <td>Canada</td>\n",
       "      <td>36289824</td>\n",
       "      <td>High</td>\n",
       "      <td>1858</td>\n",
       "      <td>5.8</td>\n",
       "      <td>Yes</td>\n",
       "      <td>Yes</td>\n",
       "      <td>Yes</td>\n",
       "      <td>Yes</td>\n",
       "      <td>95.7</td>\n",
       "      <td>...</td>\n",
       "      <td>95.3</td>\n",
       "      <td>Yes</td>\n",
       "      <td>Up to 7 yrs</td>\n",
       "      <td>Yes</td>\n",
       "      <td>Allowed in a child restraint restraint</td>\n",
       "      <td>91</td>\n",
       "      <td>Yes</td>\n",
       "      <td>Yes</td>\n",
       "      <td>No</td>\n",
       "      <td>Yes</td>\n",
       "    </tr>\n",
       "    <tr>\n",
       "      <th>4</th>\n",
       "      <td>Finland</td>\n",
       "      <td>5503132</td>\n",
       "      <td>High</td>\n",
       "      <td>252</td>\n",
       "      <td>4.7</td>\n",
       "      <td>Yes</td>\n",
       "      <td>Yes</td>\n",
       "      <td>Yes</td>\n",
       "      <td>Yes</td>\n",
       "      <td>96</td>\n",
       "      <td>...</td>\n",
       "      <td>94</td>\n",
       "      <td>Yes</td>\n",
       "      <td>Up to 135 cm</td>\n",
       "      <td>Yes</td>\n",
       "      <td>Allowed in a child restraint restraint</td>\n",
       "      <td>97</td>\n",
       "      <td>Yes</td>\n",
       "      <td>Yes</td>\n",
       "      <td>No</td>\n",
       "      <td>Yes</td>\n",
       "    </tr>\n",
       "    <tr>\n",
       "      <th>5</th>\n",
       "      <td>Germany</td>\n",
       "      <td>81914672</td>\n",
       "      <td>High</td>\n",
       "      <td>3206</td>\n",
       "      <td>4.1</td>\n",
       "      <td>Yes</td>\n",
       "      <td>Yes</td>\n",
       "      <td>Yes</td>\n",
       "      <td>Yes</td>\n",
       "      <td>98</td>\n",
       "      <td>...</td>\n",
       "      <td>98</td>\n",
       "      <td>Yes</td>\n",
       "      <td>Up to 12 yrs / 150 cm</td>\n",
       "      <td>Yes</td>\n",
       "      <td>Allowed in a child restraint restraint</td>\n",
       "      <td>97</td>\n",
       "      <td>Yes</td>\n",
       "      <td>Yes</td>\n",
       "      <td>No</td>\n",
       "      <td>Yes</td>\n",
       "    </tr>\n",
       "    <tr>\n",
       "      <th>6</th>\n",
       "      <td>Greece</td>\n",
       "      <td>11183716</td>\n",
       "      <td>High</td>\n",
       "      <td>824</td>\n",
       "      <td>9.2</td>\n",
       "      <td>Yes</td>\n",
       "      <td>Yes</td>\n",
       "      <td>Yes</td>\n",
       "      <td>Yes</td>\n",
       "      <td>77</td>\n",
       "      <td>...</td>\n",
       "      <td>72</td>\n",
       "      <td>Yes</td>\n",
       "      <td>Up to 135 - 150 cm</td>\n",
       "      <td>Yes</td>\n",
       "      <td>Allowed in a child restraint restraint</td>\n",
       "      <td>67</td>\n",
       "      <td>Yes</td>\n",
       "      <td>Yes</td>\n",
       "      <td>No</td>\n",
       "      <td>Yes</td>\n",
       "    </tr>\n",
       "    <tr>\n",
       "      <th>7</th>\n",
       "      <td>Israel</td>\n",
       "      <td>8191828</td>\n",
       "      <td>High</td>\n",
       "      <td>335</td>\n",
       "      <td>4.2</td>\n",
       "      <td>Yes</td>\n",
       "      <td>Yes</td>\n",
       "      <td>Yes</td>\n",
       "      <td>Yes</td>\n",
       "      <td>91.2</td>\n",
       "      <td>...</td>\n",
       "      <td>87.9</td>\n",
       "      <td>Yes</td>\n",
       "      <td>Up to 8 yrs</td>\n",
       "      <td>Yes</td>\n",
       "      <td>Allowed in a child restraint restraint</td>\n",
       "      <td>52</td>\n",
       "      <td>Yes</td>\n",
       "      <td>Yes</td>\n",
       "      <td>No</td>\n",
       "      <td>No</td>\n",
       "    </tr>\n",
       "    <tr>\n",
       "      <th>8</th>\n",
       "      <td>Spain</td>\n",
       "      <td>46347576</td>\n",
       "      <td>High</td>\n",
       "      <td>1810</td>\n",
       "      <td>4.1</td>\n",
       "      <td>Yes</td>\n",
       "      <td>Yes</td>\n",
       "      <td>Yes</td>\n",
       "      <td>Yes</td>\n",
       "      <td>90.3</td>\n",
       "      <td>...</td>\n",
       "      <td>88.3</td>\n",
       "      <td>Yes</td>\n",
       "      <td>Up to 135 cm</td>\n",
       "      <td>Yes</td>\n",
       "      <td>Prohibited under 135 cm</td>\n",
       "      <td>88</td>\n",
       "      <td>Yes</td>\n",
       "      <td>Yes</td>\n",
       "      <td>No</td>\n",
       "      <td>Yes</td>\n",
       "    </tr>\n",
       "    <tr>\n",
       "      <th>9</th>\n",
       "      <td>Sweden</td>\n",
       "      <td>9837533</td>\n",
       "      <td>High</td>\n",
       "      <td>270</td>\n",
       "      <td>2.8</td>\n",
       "      <td>Yes</td>\n",
       "      <td>Yes</td>\n",
       "      <td>Yes</td>\n",
       "      <td>Yes</td>\n",
       "      <td>98</td>\n",
       "      <td>...</td>\n",
       "      <td>97</td>\n",
       "      <td>Yes</td>\n",
       "      <td>Up to 135 cm</td>\n",
       "      <td>Yes</td>\n",
       "      <td>Allowed in a child restraint restraint</td>\n",
       "      <td>96</td>\n",
       "      <td>Yes</td>\n",
       "      <td>No</td>\n",
       "      <td>No</td>\n",
       "      <td>No</td>\n",
       "    </tr>\n",
       "    <tr>\n",
       "      <th>10</th>\n",
       "      <td>United Kingdom</td>\n",
       "      <td>65788572</td>\n",
       "      <td>High</td>\n",
       "      <td>1804</td>\n",
       "      <td>3.1</td>\n",
       "      <td>Yes</td>\n",
       "      <td>Yes</td>\n",
       "      <td>Yes</td>\n",
       "      <td>Yes</td>\n",
       "      <td>95</td>\n",
       "      <td>...</td>\n",
       "      <td>97</td>\n",
       "      <td>Yes</td>\n",
       "      <td>Up to 12 yrs / 135 cm</td>\n",
       "      <td>Yes</td>\n",
       "      <td>Allowed in a child restraint restraint</td>\n",
       "      <td>95</td>\n",
       "      <td>Yes</td>\n",
       "      <td>Yes</td>\n",
       "      <td>No</td>\n",
       "      <td>Yes</td>\n",
       "    </tr>\n",
       "    <tr>\n",
       "      <th>11</th>\n",
       "      <td>United States of America</td>\n",
       "      <td>322179616</td>\n",
       "      <td>High</td>\n",
       "      <td>35092</td>\n",
       "      <td>12.4</td>\n",
       "      <td>Yes</td>\n",
       "      <td>Yes</td>\n",
       "      <td>Yes</td>\n",
       "      <td>Nol</td>\n",
       "      <td>90.5</td>\n",
       "      <td>...</td>\n",
       "      <td>90.1</td>\n",
       "      <td>Yes</td>\n",
       "      <td>Up to 4 yrs</td>\n",
       "      <td>Yes</td>\n",
       "      <td>Allowed in a child restraint restraint</td>\n",
       "      <td>89</td>\n",
       "      <td>Yes</td>\n",
       "      <td>No</td>\n",
       "      <td>No</td>\n",
       "      <td>Yes</td>\n",
       "    </tr>\n",
       "  </tbody>\n",
       "</table>\n",
       "<p>12 rows × 22 columns</p>\n",
       "</div>"
      ],
      "text/plain": [
       "                     country  population  income  number of deaths  \\\n",
       "0                  Argentina    43847432  Middle              5530   \n",
       "1                  Australia    24125848    High              1296   \n",
       "2                    Belgium    11358379    High               637   \n",
       "3                     Canada    36289824    High              1858   \n",
       "4                    Finland     5503132    High               252   \n",
       "5                    Germany    81914672    High              3206   \n",
       "6                     Greece    11183716    High               824   \n",
       "7                     Israel     8191828    High               335   \n",
       "8                      Spain    46347576    High              1810   \n",
       "9                     Sweden     9837533    High               270   \n",
       "10            United Kingdom    65788572    High              1804   \n",
       "11  United States of America   322179616    High             35092   \n",
       "\n",
       "    estimated road death seat belt law seat belt drivers seat belt front seat  \\\n",
       "0                   14.0           Yes               Yes                  Yes   \n",
       "1                    5.6           Yes               Yes                  Yes   \n",
       "2                    5.8           Yes               Yes                  Yes   \n",
       "3                    5.8           Yes               Yes                  Yes   \n",
       "4                    4.7           Yes               Yes                  Yes   \n",
       "5                    4.1           Yes               Yes                  Yes   \n",
       "6                    9.2           Yes               Yes                  Yes   \n",
       "7                    4.2           Yes               Yes                  Yes   \n",
       "8                    4.1           Yes               Yes                  Yes   \n",
       "9                    2.8           Yes               Yes                  Yes   \n",
       "10                   3.1           Yes               Yes                  Yes   \n",
       "11                  12.4           Yes               Yes                  Yes   \n",
       "\n",
       "   seat belt rear seat rates seat belt drivers  ... rates seat belt all  \\\n",
       "0                  Yes                    50.2  ...                43.6   \n",
       "1                  Yes                      95  ...                  95   \n",
       "2                  Yes                    91.5  ...                91.7   \n",
       "3                  Yes                    95.7  ...                95.3   \n",
       "4                  Yes                      96  ...                  94   \n",
       "5                  Yes                      98  ...                  98   \n",
       "6                  Yes                      77  ...                  72   \n",
       "7                  Yes                    91.2  ...                87.9   \n",
       "8                  Yes                    90.3  ...                88.3   \n",
       "9                  Yes                      98  ...                  97   \n",
       "10                 Yes                      95  ...                  97   \n",
       "11                 Nol                    90.5  ...                90.1   \n",
       "\n",
       "   child restraint law       child restraints standard specified  \\\n",
       "0                  Yes            Up to 4 yrs                 No   \n",
       "1                  Yes            Up to 7 yrs                Yes   \n",
       "2                  Yes  Up to 18 yrs / 135 cm                Yes   \n",
       "3                  Yes            Up to 7 yrs                Yes   \n",
       "4                  Yes           Up to 135 cm                Yes   \n",
       "5                  Yes  Up to 12 yrs / 150 cm                Yes   \n",
       "6                  Yes     Up to 135 - 150 cm                Yes   \n",
       "7                  Yes            Up to 8 yrs                Yes   \n",
       "8                  Yes           Up to 135 cm                Yes   \n",
       "9                  Yes           Up to 135 cm                Yes   \n",
       "10                 Yes  Up to 12 yrs / 135 cm                Yes   \n",
       "11                 Yes           Up to 4 yrs                 Yes   \n",
       "\n",
       "                     child seated in front percentage child restraints  \\\n",
       "0                  Prohibited under 10 yrs                        26.4   \n",
       "1                   Prohibited under 7 yrs                          63   \n",
       "2   Allowed in a child restraint restraint                          89   \n",
       "3   Allowed in a child restraint restraint                          91   \n",
       "4   Allowed in a child restraint restraint                          97   \n",
       "5   Allowed in a child restraint restraint                          97   \n",
       "6   Allowed in a child restraint restraint                          67   \n",
       "7   Allowed in a child restraint restraint                          52   \n",
       "8                  Prohibited under 135 cm                          88   \n",
       "9   Allowed in a child restraint restraint                          96   \n",
       "10  Allowed in a child restraint restraint                          95   \n",
       "11  Allowed in a child restraint restraint                          89   \n",
       "\n",
       "   mobile phone law hand_held phone hand_free phone any_data phone  \n",
       "0               Yes             Yes             Yes            Yes  \n",
       "1               Yes             Yes              No            Yes  \n",
       "2               Yes             Yes              No            Yes  \n",
       "3               Yes             Yes              No            Yes  \n",
       "4               Yes             Yes              No            Yes  \n",
       "5               Yes             Yes              No            Yes  \n",
       "6               Yes             Yes              No            Yes  \n",
       "7               Yes             Yes              No             No  \n",
       "8               Yes             Yes              No            Yes  \n",
       "9               Yes              No              No             No  \n",
       "10              Yes             Yes              No            Yes  \n",
       "11              Yes              No              No            Yes  \n",
       "\n",
       "[12 rows x 22 columns]"
      ]
     },
     "metadata": {},
     "output_type": "display_data"
    }
   ],
   "source": [
    "# Create empty DataFrame\n",
    "df_type = pd.DataFrame()\n",
    "df_seatbelt = pd.DataFrame()\n",
    "df_restraint = pd.DataFrame()\n",
    "df_phones = pd.DataFrame()\n",
    "\n",
    "# Read data into pandas\n",
    "\n",
    "df_raw_type = pd.read_csv(\"../data_raw/summary_table_road_traffic_deathsp.csv\")\n",
    "df_raw_seatbelt = pd.read_csv(\"../data_raw/seat_belt_laws.csv\")\n",
    "df_raw_restraint = pd.read_csv(\"../data_raw/child_restraints_by_country.csv\")\n",
    "df_raw_phones = pd.read_csv(\"../data_raw/mobile_phone_laws.csv\")\n",
    "\n",
    "# Chosen countries\n",
    "countries = [\"Argentina\",\n",
    "             \"Australia\",\n",
    "             \"Belgium\",\n",
    "             \"Canada\",\n",
    "             \"Finland\",\n",
    "             \"Germany\",\n",
    "             \"Greece\",\n",
    "             \"Israel\",\n",
    "             \"Spain\",\n",
    "             \"Sweden\",\n",
    "             \"United Kingdom\",\n",
    "             \"United States of America\"\n",
    "            ]\n",
    "\n",
    "# Making loop to fill DataFrames\n",
    "for x in countries:\n",
    "    df_type = df_type.append( df_raw_type[df_raw_type['Country/Area'].str.contains(x)], ignore_index = True )\n",
    "    df_seatbelt = df_seatbelt.append( df_raw_seatbelt[df_raw_seatbelt['Country/Area'].str.contains(x)], ignore_index = True )\n",
    "    df_restraint = df_restraint.append( df_raw_restraint[df_raw_restraint['Country/Area'].str.contains(x)], ignore_index = True )\n",
    "    df_phones = df_phones.append( df_raw_phones[df_raw_phones['Country/Area'].str.contains(x)], ignore_index = True )\n",
    "\n",
    "# Merge DataFrames\n",
    "df1=pd.merge(df_type,df_seatbelt, how='left', on='Country/Area')\n",
    "df2=pd.merge(df1,df_restraint, how='left', on='Country/Area')\n",
    "df=pd.merge(df2,df_phones, how='left', on='Country/Area')\n",
    "\n",
    "# Rename columns so that they are differentiated\n",
    "\n",
    "##### FORMATTING\n",
    "### EDITED BY JOHN - WHEN I TRIED TO RUN IT THREW ME SOME ERRORS, TRIED TO FIX\n",
    "df.rename(columns= {\"Country/Area\":\"country\",\n",
    "                    \"Population numbers for 2016a\":\"population\",\n",
    "                    \"Income levelc\":\"income\",\n",
    "                    \"Reported number of road traffic deaths\":\"number of deaths\",\n",
    "                    \"Estimated road traffic death rate per 100 000 populationd \":\"estimated road death\",\n",
    "                    \n",
    "                    ## OLD CODE\n",
    "                    # \"National seat\\nbelt law\":\"seat belt law\",\n",
    "                    ## NEW CODE\n",
    "                    \"National seat\\r\\nbelt law\":\"seat belt law\",\n",
    "                    ## END\n",
    "                    \n",
    "                    \"National child restraint law\":\"child restraint law\",\n",
    "                    \"Seat belt applies to Drivers\":\"seat belt drivers\",\n",
    "                    \"Seat belt applies to Front seat passengers\":\"seat belt front seat\",\n",
    "                    \"Seat belt applies to Rear-seat passengers\":\"seat belt rear seat\",\n",
    "                    \"Seat-belt wearing rates (%) Drivers only \":\"rates seat belt drivers\",\n",
    "                    \" Seat-belt wearing rates (%) Front-seat occupants\":\"rates seat belt front seat\",\n",
    "                    \"Seat-belt wearing rates (%) Rear-seat occupants\":\"rates seat belt rear seat\",\n",
    "                    \"Seat-belt wearing rates (%) All occupants\":\"rates seat belt all\",\n",
    "                    \n",
    "                    ## OLD CODE\n",
    "                    # \"\\nChild restraints required \":\"child restraints\",\n",
    "                    ### NEW CODE\n",
    "                    \"\\r\\nChild restraints required \":\"child restraints\",\n",
    "                    ## END\n",
    "                    \n",
    "                    ## OLD CODE\n",
    "                    # \"Children seated \\nin front seat\":\"child seatedcin front\",\n",
    "                    ### NEW CODE\n",
    "                    \"Children seated \\r\\nin front seat\":\"child seated in front\",\n",
    "                    ## END\n",
    "\n",
    "                    \"Standard referred to and/or specified\":\"standard specified\",\n",
    "                    \"Percentage of children using child restraints\":\"percentage child restraints\",\n",
    "                    \"National mobile phone law\":\"mobile phone law\",\n",
    "                    \"Mobile phone law Applies to hand-held phone use\":\"hand_held phone\",\n",
    "                    \"Mobile phone law Applies to hands-free phone use\":\"hand_free phone\",\n",
    "                    \"Any data on use of mobile phone while driving\":\"any_data phone\"}, inplace=True)\n",
    "### END JOHN EDIT\n",
    "\n",
    "# Collecting columns which will be used in analyzation\n",
    "df = df[[\"country\",\"population\",\"income\",\"number of deaths\",\"estimated road death\",\"seat belt law\",\"seat belt drivers\",\"seat belt front seat\",\n",
    "         \"seat belt rear seat\",\"rates seat belt drivers\",\"rates seat belt front seat\",\"rates seat belt rear seat\",\"rates seat belt all\",\"child restraint law\",\n",
    "         \"child restraints\",\"standard specified\",\"child seated in front\",\"percentage child restraints\",\"mobile phone law\",\"hand_held phone\",\"hand_free phone\",\"any_data phone\"]]\n",
    "display(df)"
   ]
  },
  {
   "cell_type": "code",
   "execution_count": 3,
   "metadata": {
    "ExecuteTime": {
     "end_time": "2020-10-25T16:45:36.416767Z",
     "start_time": "2020-10-25T16:45:36.401132Z"
    }
   },
   "outputs": [],
   "source": [
    "# Create a new DataFrame to show the data of all countries in child-restraints laws\n",
    "df_new=pd.merge(df_raw_type,df_raw_restraint, how='left', on='Country/Area')"
   ]
  },
  {
   "cell_type": "code",
   "execution_count": 4,
   "metadata": {
    "ExecuteTime": {
     "end_time": "2020-10-25T16:45:36.936660Z",
     "start_time": "2020-10-25T16:45:36.902091Z"
    }
   },
   "outputs": [
    {
     "data": {
      "text/plain": [
       "Country/Area                                     48.0\n",
       "National child restraint law                     48.0\n",
       "\\r\\nChild restraints required                    48.0\n",
       "Standard referred to and/or specified            48.0\n",
       "Children seated \\r\\nin front seat                48.0\n",
       "  Enforcement                                    48.0\n",
       "Percentage of children using child restraints    48.0\n",
       "dtype: float64"
      ]
     },
     "execution_count": 4,
     "metadata": {},
     "output_type": "execute_result"
    }
   ],
   "source": [
    "# percentage of child restraints use by countries\n",
    "(df_raw_restraint.loc[df_raw_restraint[\"National child restraint law\"]==\"Yes\"].count())/(df_raw_restraint[\"National child restraint law\"].count())*100"
   ]
  },
  {
   "cell_type": "code",
   "execution_count": 5,
   "metadata": {
    "ExecuteTime": {
     "end_time": "2020-10-25T16:45:37.444371Z",
     "start_time": "2020-10-25T16:45:37.401808Z"
    }
   },
   "outputs": [
    {
     "data": {
      "text/plain": [
       "Country/Area                                     52.0\n",
       "National child restraint law                     52.0\n",
       "\\r\\nChild restraints required                    52.0\n",
       "Standard referred to and/or specified            52.0\n",
       "Children seated \\r\\nin front seat                52.0\n",
       "  Enforcement                                    52.0\n",
       "Percentage of children using child restraints    52.0\n",
       "dtype: float64"
      ]
     },
     "execution_count": 5,
     "metadata": {},
     "output_type": "execute_result"
    }
   ],
   "source": [
    "# percentage of child restraints not use by countries\n",
    "(df_raw_restraint.loc[df_raw_restraint[\"National child restraint law\"]==\"No\"].count())/(df_raw_restraint[\"National child restraint law\"].count())*100"
   ]
  },
  {
   "cell_type": "code",
   "execution_count": 6,
   "metadata": {
    "ExecuteTime": {
     "end_time": "2020-10-25T16:45:37.977673Z",
     "start_time": "2020-10-25T16:45:37.952412Z"
    }
   },
   "outputs": [
    {
     "data": {
      "text/plain": [
       "Income levelc  National child restraint law\n",
       "High           No                               5\n",
       "               Yes                             44\n",
       "Low            No                              23\n",
       "               Yes                              5\n",
       "Middle         No                              63\n",
       "               Yes                             35\n",
       "Name: National child restraint law, dtype: int64"
      ]
     },
     "metadata": {},
     "output_type": "display_data"
    }
   ],
   "source": [
    "# Make a groupby dataframe for child restraint law\n",
    "child_by_income = df_new.groupby([\"Income levelc\",\"National child restraint law\"])[\"National child restraint law\"].count()\n",
    "display(child_by_income)"
   ]
  },
  {
   "cell_type": "code",
   "execution_count": 7,
   "metadata": {
    "ExecuteTime": {
     "end_time": "2020-10-25T16:45:38.514138Z",
     "start_time": "2020-10-25T16:45:38.475332Z"
    }
   },
   "outputs": [],
   "source": [
    "# Create a new DataFrame to show the data of all countries in seat-belt laws\n",
    "df_new2=pd.merge(df_raw_type,df_raw_seatbelt, how='left', on='Country/Area')"
   ]
  },
  {
   "cell_type": "code",
   "execution_count": 8,
   "metadata": {
    "ExecuteTime": {
     "end_time": "2020-10-25T16:45:39.239667Z",
     "start_time": "2020-10-25T16:45:39.015586Z"
    }
   },
   "outputs": [
    {
     "ename": "KeyError",
     "evalue": "'National seat\\nbelt law'",
     "output_type": "error",
     "traceback": [
      "\u001b[1;31m---------------------------------------------------------------------------\u001b[0m",
      "\u001b[1;31mKeyError\u001b[0m                                  Traceback (most recent call last)",
      "\u001b[1;32m~\\anaconda3\\envs\\class_31\\lib\\site-packages\\pandas\\core\\indexes\\base.py\u001b[0m in \u001b[0;36mget_loc\u001b[1;34m(self, key, method, tolerance)\u001b[0m\n\u001b[0;32m   2888\u001b[0m             \u001b[1;32mtry\u001b[0m\u001b[1;33m:\u001b[0m\u001b[1;33m\u001b[0m\u001b[1;33m\u001b[0m\u001b[0m\n\u001b[1;32m-> 2889\u001b[1;33m                 \u001b[1;32mreturn\u001b[0m \u001b[0mself\u001b[0m\u001b[1;33m.\u001b[0m\u001b[0m_engine\u001b[0m\u001b[1;33m.\u001b[0m\u001b[0mget_loc\u001b[0m\u001b[1;33m(\u001b[0m\u001b[0mcasted_key\u001b[0m\u001b[1;33m)\u001b[0m\u001b[1;33m\u001b[0m\u001b[1;33m\u001b[0m\u001b[0m\n\u001b[0m\u001b[0;32m   2890\u001b[0m             \u001b[1;32mexcept\u001b[0m \u001b[0mKeyError\u001b[0m \u001b[1;32mas\u001b[0m \u001b[0merr\u001b[0m\u001b[1;33m:\u001b[0m\u001b[1;33m\u001b[0m\u001b[1;33m\u001b[0m\u001b[0m\n",
      "\u001b[1;32mpandas\\_libs\\index.pyx\u001b[0m in \u001b[0;36mpandas._libs.index.IndexEngine.get_loc\u001b[1;34m()\u001b[0m\n",
      "\u001b[1;32mpandas\\_libs\\index.pyx\u001b[0m in \u001b[0;36mpandas._libs.index.IndexEngine.get_loc\u001b[1;34m()\u001b[0m\n",
      "\u001b[1;32mpandas\\_libs\\hashtable_class_helper.pxi\u001b[0m in \u001b[0;36mpandas._libs.hashtable.PyObjectHashTable.get_item\u001b[1;34m()\u001b[0m\n",
      "\u001b[1;32mpandas\\_libs\\hashtable_class_helper.pxi\u001b[0m in \u001b[0;36mpandas._libs.hashtable.PyObjectHashTable.get_item\u001b[1;34m()\u001b[0m\n",
      "\u001b[1;31mKeyError\u001b[0m: 'National seat\\nbelt law'",
      "\nThe above exception was the direct cause of the following exception:\n",
      "\u001b[1;31mKeyError\u001b[0m                                  Traceback (most recent call last)",
      "\u001b[1;32m<ipython-input-8-ecebd627a53c>\u001b[0m in \u001b[0;36m<module>\u001b[1;34m\u001b[0m\n\u001b[0;32m      1\u001b[0m \u001b[1;31m# percentage of seat-belt law use by countries\u001b[0m\u001b[1;33m\u001b[0m\u001b[1;33m\u001b[0m\u001b[1;33m\u001b[0m\u001b[0m\n\u001b[1;32m----> 2\u001b[1;33m \u001b[1;33m(\u001b[0m\u001b[0mdf_raw_seatbelt\u001b[0m\u001b[1;33m.\u001b[0m\u001b[0mloc\u001b[0m\u001b[1;33m[\u001b[0m\u001b[0mdf_raw_seatbelt\u001b[0m\u001b[1;33m[\u001b[0m\u001b[1;34m\"National seat\\nbelt law\"\u001b[0m\u001b[1;33m]\u001b[0m\u001b[1;33m==\u001b[0m\u001b[1;34m\"Yes\"\u001b[0m\u001b[1;33m]\u001b[0m\u001b[1;33m.\u001b[0m\u001b[0mcount\u001b[0m\u001b[1;33m(\u001b[0m\u001b[1;33m)\u001b[0m\u001b[1;33m)\u001b[0m\u001b[1;33m/\u001b[0m\u001b[1;33m(\u001b[0m\u001b[0mdf_raw_seatbelt\u001b[0m\u001b[1;33m[\u001b[0m\u001b[1;34m\"National seat\\nbelt law\"\u001b[0m\u001b[1;33m]\u001b[0m\u001b[1;33m.\u001b[0m\u001b[0mcount\u001b[0m\u001b[1;33m(\u001b[0m\u001b[1;33m)\u001b[0m\u001b[1;33m)\u001b[0m\u001b[1;33m*\u001b[0m\u001b[1;36m100\u001b[0m\u001b[1;33m\u001b[0m\u001b[1;33m\u001b[0m\u001b[0m\n\u001b[0m",
      "\u001b[1;32m~\\anaconda3\\envs\\class_31\\lib\\site-packages\\pandas\\core\\frame.py\u001b[0m in \u001b[0;36m__getitem__\u001b[1;34m(self, key)\u001b[0m\n\u001b[0;32m   2900\u001b[0m             \u001b[1;32mif\u001b[0m \u001b[0mself\u001b[0m\u001b[1;33m.\u001b[0m\u001b[0mcolumns\u001b[0m\u001b[1;33m.\u001b[0m\u001b[0mnlevels\u001b[0m \u001b[1;33m>\u001b[0m \u001b[1;36m1\u001b[0m\u001b[1;33m:\u001b[0m\u001b[1;33m\u001b[0m\u001b[1;33m\u001b[0m\u001b[0m\n\u001b[0;32m   2901\u001b[0m                 \u001b[1;32mreturn\u001b[0m \u001b[0mself\u001b[0m\u001b[1;33m.\u001b[0m\u001b[0m_getitem_multilevel\u001b[0m\u001b[1;33m(\u001b[0m\u001b[0mkey\u001b[0m\u001b[1;33m)\u001b[0m\u001b[1;33m\u001b[0m\u001b[1;33m\u001b[0m\u001b[0m\n\u001b[1;32m-> 2902\u001b[1;33m             \u001b[0mindexer\u001b[0m \u001b[1;33m=\u001b[0m \u001b[0mself\u001b[0m\u001b[1;33m.\u001b[0m\u001b[0mcolumns\u001b[0m\u001b[1;33m.\u001b[0m\u001b[0mget_loc\u001b[0m\u001b[1;33m(\u001b[0m\u001b[0mkey\u001b[0m\u001b[1;33m)\u001b[0m\u001b[1;33m\u001b[0m\u001b[1;33m\u001b[0m\u001b[0m\n\u001b[0m\u001b[0;32m   2903\u001b[0m             \u001b[1;32mif\u001b[0m \u001b[0mis_integer\u001b[0m\u001b[1;33m(\u001b[0m\u001b[0mindexer\u001b[0m\u001b[1;33m)\u001b[0m\u001b[1;33m:\u001b[0m\u001b[1;33m\u001b[0m\u001b[1;33m\u001b[0m\u001b[0m\n\u001b[0;32m   2904\u001b[0m                 \u001b[0mindexer\u001b[0m \u001b[1;33m=\u001b[0m \u001b[1;33m[\u001b[0m\u001b[0mindexer\u001b[0m\u001b[1;33m]\u001b[0m\u001b[1;33m\u001b[0m\u001b[1;33m\u001b[0m\u001b[0m\n",
      "\u001b[1;32m~\\anaconda3\\envs\\class_31\\lib\\site-packages\\pandas\\core\\indexes\\base.py\u001b[0m in \u001b[0;36mget_loc\u001b[1;34m(self, key, method, tolerance)\u001b[0m\n\u001b[0;32m   2889\u001b[0m                 \u001b[1;32mreturn\u001b[0m \u001b[0mself\u001b[0m\u001b[1;33m.\u001b[0m\u001b[0m_engine\u001b[0m\u001b[1;33m.\u001b[0m\u001b[0mget_loc\u001b[0m\u001b[1;33m(\u001b[0m\u001b[0mcasted_key\u001b[0m\u001b[1;33m)\u001b[0m\u001b[1;33m\u001b[0m\u001b[1;33m\u001b[0m\u001b[0m\n\u001b[0;32m   2890\u001b[0m             \u001b[1;32mexcept\u001b[0m \u001b[0mKeyError\u001b[0m \u001b[1;32mas\u001b[0m \u001b[0merr\u001b[0m\u001b[1;33m:\u001b[0m\u001b[1;33m\u001b[0m\u001b[1;33m\u001b[0m\u001b[0m\n\u001b[1;32m-> 2891\u001b[1;33m                 \u001b[1;32mraise\u001b[0m \u001b[0mKeyError\u001b[0m\u001b[1;33m(\u001b[0m\u001b[0mkey\u001b[0m\u001b[1;33m)\u001b[0m \u001b[1;32mfrom\u001b[0m \u001b[0merr\u001b[0m\u001b[1;33m\u001b[0m\u001b[1;33m\u001b[0m\u001b[0m\n\u001b[0m\u001b[0;32m   2892\u001b[0m \u001b[1;33m\u001b[0m\u001b[0m\n\u001b[0;32m   2893\u001b[0m         \u001b[1;32mif\u001b[0m \u001b[0mtolerance\u001b[0m \u001b[1;32mis\u001b[0m \u001b[1;32mnot\u001b[0m \u001b[1;32mNone\u001b[0m\u001b[1;33m:\u001b[0m\u001b[1;33m\u001b[0m\u001b[1;33m\u001b[0m\u001b[0m\n",
      "\u001b[1;31mKeyError\u001b[0m: 'National seat\\nbelt law'"
     ]
    }
   ],
   "source": [
    "# percentage of seat-belt law use by countries\n",
    "(df_raw_seatbelt.loc[df_raw_seatbelt[\"National seat\\nbelt law\"]==\"Yes\"].count())/(df_raw_seatbelt[\"National seat\\nbelt law\"].count())*100"
   ]
  },
  {
   "cell_type": "code",
   "execution_count": null,
   "metadata": {
    "ExecuteTime": {
     "end_time": "2020-10-25T16:45:39.239667Z",
     "start_time": "2020-10-25T16:45:38.506Z"
    }
   },
   "outputs": [],
   "source": [
    "# percentage of seat-belt law not use by countries\n",
    "(df_raw_seatbelt.loc[df_raw_seatbelt[\"National seat\\nbelt law\"]==\"No\"].count())/(df_raw_seatbelt[\"National seat\\nbelt law\"].count())*100"
   ]
  },
  {
   "cell_type": "code",
   "execution_count": null,
   "metadata": {
    "ExecuteTime": {
     "end_time": "2020-10-25T16:45:39.255237Z",
     "start_time": "2020-10-25T16:45:39.203Z"
    }
   },
   "outputs": [],
   "source": [
    "# Make a groupby dataframe for seat-belt law\n",
    "seatbelt_by_income = df_new2.groupby([\"Income levelc\",\"National seat\\nbelt law\"])[\"National seat\\nbelt law\"].count()\n",
    "display(seatbelt_by_income)"
   ]
  },
  {
   "cell_type": "code",
   "execution_count": 9,
   "metadata": {
    "ExecuteTime": {
     "end_time": "2020-10-25T16:45:40.127226Z",
     "start_time": "2020-10-25T16:45:40.092805Z"
    }
   },
   "outputs": [],
   "source": [
    "# Create a new DataFrame to show the data of all countries in mobile phone laws\n",
    "df_new3=pd.merge(df_raw_type,df_raw_phones, how='left', on='Country/Area')"
   ]
  },
  {
   "cell_type": "code",
   "execution_count": 10,
   "metadata": {
    "ExecuteTime": {
     "end_time": "2020-10-25T16:45:41.031798Z",
     "start_time": "2020-10-25T16:45:40.993997Z"
    }
   },
   "outputs": [
    {
     "data": {
      "text/plain": [
       "Country/Area                                        85.714286\n",
       "National mobile phone law                           85.714286\n",
       "Mobile phone law Applies to hand-held phone use     85.714286\n",
       "Mobile phone law Applies to hands-free phone use    85.714286\n",
       "Any data on use of mobile phone while driving       85.714286\n",
       "dtype: float64"
      ]
     },
     "execution_count": 10,
     "metadata": {},
     "output_type": "execute_result"
    }
   ],
   "source": [
    "# percentage of mobile phone law use by countries\n",
    "(df_raw_phones.loc[df_raw_phones[\"National mobile phone law\"]==\"Yes\"].count())/(df_raw_phones[\"National mobile phone law\"].count())*100"
   ]
  },
  {
   "cell_type": "code",
   "execution_count": 11,
   "metadata": {
    "ExecuteTime": {
     "end_time": "2020-10-25T16:45:41.671613Z",
     "start_time": "2020-10-25T16:45:41.640358Z"
    }
   },
   "outputs": [
    {
     "data": {
      "text/plain": [
       "Country/Area                                        14.285714\n",
       "National mobile phone law                           14.285714\n",
       "Mobile phone law Applies to hand-held phone use     14.285714\n",
       "Mobile phone law Applies to hands-free phone use    14.285714\n",
       "Any data on use of mobile phone while driving       14.285714\n",
       "dtype: float64"
      ]
     },
     "execution_count": 11,
     "metadata": {},
     "output_type": "execute_result"
    }
   ],
   "source": [
    "# percentage of mobile phone law use by countries\n",
    "(df_raw_phones.loc[df_raw_phones[\"National mobile phone law\"]==\"No\"].count())/(df_raw_phones[\"National mobile phone law\"].count())*100"
   ]
  },
  {
   "cell_type": "code",
   "execution_count": 12,
   "metadata": {
    "ExecuteTime": {
     "end_time": "2020-10-25T16:45:42.293721Z",
     "start_time": "2020-10-25T16:45:42.249023Z"
    }
   },
   "outputs": [
    {
     "data": {
      "text/plain": [
       "Income levelc  National mobile phone law\n",
       "High           No                            2\n",
       "               Yes                          47\n",
       "Low            No                            9\n",
       "               Yes                          19\n",
       "Middle         No                           14\n",
       "               Yes                          84\n",
       "Name: National mobile phone law, dtype: int64"
      ]
     },
     "metadata": {},
     "output_type": "display_data"
    }
   ],
   "source": [
    "# Make a groupby dataframe for mobile phone law\n",
    "mobile_by_income = df_new3.groupby([\"Income levelc\",\"National mobile phone law\"])[\"National mobile phone law\"].count()\n",
    "display(mobile_by_income)"
   ]
  },
  {
   "cell_type": "code",
   "execution_count": 13,
   "metadata": {
    "ExecuteTime": {
     "end_time": "2020-10-25T16:45:42.914381Z",
     "start_time": "2020-10-25T16:45:42.882846Z"
    }
   },
   "outputs": [],
   "source": [
    "# Convert type of my data from object to float\n",
    "df[\"percentage child restraints\"] = pd.to_numeric(df[\"percentage child restraints\"])\n",
    "df[\"rates seat belt drivers\"] = pd.to_numeric(df[\"rates seat belt drivers\"])\n",
    "df[\"rates seat belt front seat\"] = pd.to_numeric(df[\"rates seat belt front seat\"])\n",
    "df[\"rates seat belt rear seat\"] = pd.to_numeric(df[\"rates seat belt rear seat\"])\n",
    "df[\"rates seat belt all\"] = pd.to_numeric(df[\"rates seat belt all\"])"
   ]
  },
  {
   "cell_type": "code",
   "execution_count": 14,
   "metadata": {
    "ExecuteTime": {
     "end_time": "2020-10-25T16:45:43.650040Z",
     "start_time": "2020-10-25T16:45:43.609598Z"
    }
   },
   "outputs": [
    {
     "name": "stdout",
     "output_type": "stream",
     "text": [
      "<class 'pandas.core.frame.DataFrame'>\n",
      "Int64Index: 12 entries, 0 to 11\n",
      "Data columns (total 22 columns):\n",
      " #   Column                       Non-Null Count  Dtype  \n",
      "---  ------                       --------------  -----  \n",
      " 0   country                      12 non-null     object \n",
      " 1   population                   12 non-null     int64  \n",
      " 2   income                       12 non-null     object \n",
      " 3   number of deaths             12 non-null     int64  \n",
      " 4   estimated road death         12 non-null     float64\n",
      " 5   seat belt law                12 non-null     object \n",
      " 6   seat belt drivers            12 non-null     object \n",
      " 7   seat belt front seat         12 non-null     object \n",
      " 8   seat belt rear seat          12 non-null     object \n",
      " 9   rates seat belt drivers      12 non-null     float64\n",
      " 10  rates seat belt front seat   12 non-null     float64\n",
      " 11  rates seat belt rear seat    12 non-null     float64\n",
      " 12  rates seat belt all          12 non-null     float64\n",
      " 13  child restraint law          12 non-null     object \n",
      " 14  child restraints             12 non-null     object \n",
      " 15  standard specified           12 non-null     object \n",
      " 16  child seated in front        12 non-null     object \n",
      " 17  percentage child restraints  12 non-null     float64\n",
      " 18  mobile phone law             12 non-null     object \n",
      " 19  hand_held phone              12 non-null     object \n",
      " 20  hand_free phone              12 non-null     object \n",
      " 21  any_data phone               12 non-null     object \n",
      "dtypes: float64(6), int64(2), object(14)\n",
      "memory usage: 2.2+ KB\n"
     ]
    }
   ],
   "source": [
    "# General information about data for each column\n",
    "df.info()"
   ]
  },
  {
   "cell_type": "code",
   "execution_count": 15,
   "metadata": {
    "ExecuteTime": {
     "end_time": "2020-10-25T16:45:44.384886Z",
     "start_time": "2020-10-25T16:45:44.284451Z"
    }
   },
   "outputs": [
    {
     "data": {
      "text/html": [
       "<div>\n",
       "<style scoped>\n",
       "    .dataframe tbody tr th:only-of-type {\n",
       "        vertical-align: middle;\n",
       "    }\n",
       "\n",
       "    .dataframe tbody tr th {\n",
       "        vertical-align: top;\n",
       "    }\n",
       "\n",
       "    .dataframe thead th {\n",
       "        text-align: right;\n",
       "    }\n",
       "</style>\n",
       "<table border=\"1\" class=\"dataframe\">\n",
       "  <thead>\n",
       "    <tr style=\"text-align: right;\">\n",
       "      <th></th>\n",
       "      <th>population</th>\n",
       "      <th>number of deaths</th>\n",
       "      <th>estimated road death</th>\n",
       "      <th>rates seat belt drivers</th>\n",
       "      <th>rates seat belt front seat</th>\n",
       "      <th>rates seat belt rear seat</th>\n",
       "      <th>rates seat belt all</th>\n",
       "      <th>percentage child restraints</th>\n",
       "    </tr>\n",
       "  </thead>\n",
       "  <tbody>\n",
       "    <tr>\n",
       "      <th>count</th>\n",
       "      <td>1.200000e+01</td>\n",
       "      <td>12.000000</td>\n",
       "      <td>12.000000</td>\n",
       "      <td>12.000000</td>\n",
       "      <td>12.000000</td>\n",
       "      <td>12.000000</td>\n",
       "      <td>12.000000</td>\n",
       "      <td>12.000000</td>\n",
       "    </tr>\n",
       "    <tr>\n",
       "      <th>mean</th>\n",
       "      <td>5.554734e+07</td>\n",
       "      <td>4409.500000</td>\n",
       "      <td>6.316667</td>\n",
       "      <td>89.033333</td>\n",
       "      <td>87.625000</td>\n",
       "      <td>75.491667</td>\n",
       "      <td>87.491667</td>\n",
       "      <td>79.200000</td>\n",
       "    </tr>\n",
       "    <tr>\n",
       "      <th>std</th>\n",
       "      <td>8.750570e+07</td>\n",
       "      <td>9779.287885</td>\n",
       "      <td>3.631136</td>\n",
       "      <td>13.458173</td>\n",
       "      <td>16.047607</td>\n",
       "      <td>25.819459</td>\n",
       "      <td>15.499998</td>\n",
       "      <td>22.387659</td>\n",
       "    </tr>\n",
       "    <tr>\n",
       "      <th>min</th>\n",
       "      <td>5.503132e+06</td>\n",
       "      <td>252.000000</td>\n",
       "      <td>2.800000</td>\n",
       "      <td>50.200000</td>\n",
       "      <td>40.800000</td>\n",
       "      <td>23.000000</td>\n",
       "      <td>43.600000</td>\n",
       "      <td>26.400000</td>\n",
       "    </tr>\n",
       "    <tr>\n",
       "      <th>25%</th>\n",
       "      <td>1.084717e+07</td>\n",
       "      <td>561.500000</td>\n",
       "      <td>4.100000</td>\n",
       "      <td>90.450000</td>\n",
       "      <td>89.750000</td>\n",
       "      <td>73.525000</td>\n",
       "      <td>88.200000</td>\n",
       "      <td>66.000000</td>\n",
       "    </tr>\n",
       "    <tr>\n",
       "      <th>50%</th>\n",
       "      <td>3.020784e+07</td>\n",
       "      <td>1550.000000</td>\n",
       "      <td>5.150000</td>\n",
       "      <td>93.250000</td>\n",
       "      <td>93.100000</td>\n",
       "      <td>85.250000</td>\n",
       "      <td>92.850000</td>\n",
       "      <td>89.000000</td>\n",
       "    </tr>\n",
       "    <tr>\n",
       "      <th>75%</th>\n",
       "      <td>5.120782e+07</td>\n",
       "      <td>2195.000000</td>\n",
       "      <td>6.650000</td>\n",
       "      <td>95.775000</td>\n",
       "      <td>95.400000</td>\n",
       "      <td>90.000000</td>\n",
       "      <td>95.725000</td>\n",
       "      <td>95.250000</td>\n",
       "    </tr>\n",
       "    <tr>\n",
       "      <th>max</th>\n",
       "      <td>3.221796e+08</td>\n",
       "      <td>35092.000000</td>\n",
       "      <td>14.000000</td>\n",
       "      <td>98.000000</td>\n",
       "      <td>98.000000</td>\n",
       "      <td>99.000000</td>\n",
       "      <td>98.000000</td>\n",
       "      <td>97.000000</td>\n",
       "    </tr>\n",
       "  </tbody>\n",
       "</table>\n",
       "</div>"
      ],
      "text/plain": [
       "         population  number of deaths  estimated road death  \\\n",
       "count  1.200000e+01         12.000000             12.000000   \n",
       "mean   5.554734e+07       4409.500000              6.316667   \n",
       "std    8.750570e+07       9779.287885              3.631136   \n",
       "min    5.503132e+06        252.000000              2.800000   \n",
       "25%    1.084717e+07        561.500000              4.100000   \n",
       "50%    3.020784e+07       1550.000000              5.150000   \n",
       "75%    5.120782e+07       2195.000000              6.650000   \n",
       "max    3.221796e+08      35092.000000             14.000000   \n",
       "\n",
       "       rates seat belt drivers  rates seat belt front seat  \\\n",
       "count                12.000000                   12.000000   \n",
       "mean                 89.033333                   87.625000   \n",
       "std                  13.458173                   16.047607   \n",
       "min                  50.200000                   40.800000   \n",
       "25%                  90.450000                   89.750000   \n",
       "50%                  93.250000                   93.100000   \n",
       "75%                  95.775000                   95.400000   \n",
       "max                  98.000000                   98.000000   \n",
       "\n",
       "       rates seat belt rear seat  rates seat belt all  \\\n",
       "count                  12.000000            12.000000   \n",
       "mean                   75.491667            87.491667   \n",
       "std                    25.819459            15.499998   \n",
       "min                    23.000000            43.600000   \n",
       "25%                    73.525000            88.200000   \n",
       "50%                    85.250000            92.850000   \n",
       "75%                    90.000000            95.725000   \n",
       "max                    99.000000            98.000000   \n",
       "\n",
       "       percentage child restraints  \n",
       "count                    12.000000  \n",
       "mean                     79.200000  \n",
       "std                      22.387659  \n",
       "min                      26.400000  \n",
       "25%                      66.000000  \n",
       "50%                      89.000000  \n",
       "75%                      95.250000  \n",
       "max                      97.000000  "
      ]
     },
     "execution_count": 15,
     "metadata": {},
     "output_type": "execute_result"
    }
   ],
   "source": [
    "# Basic descriptive statistics for each column\n",
    "df.describe()"
   ]
  },
  {
   "cell_type": "code",
   "execution_count": 16,
   "metadata": {
    "ExecuteTime": {
     "end_time": "2020-10-25T16:45:45.117178Z",
     "start_time": "2020-10-25T16:45:45.051564Z"
    },
    "scrolled": true
   },
   "outputs": [
    {
     "data": {
      "text/html": [
       "<div>\n",
       "<style scoped>\n",
       "    .dataframe tbody tr th:only-of-type {\n",
       "        vertical-align: middle;\n",
       "    }\n",
       "\n",
       "    .dataframe tbody tr th {\n",
       "        vertical-align: top;\n",
       "    }\n",
       "\n",
       "    .dataframe thead th {\n",
       "        text-align: right;\n",
       "    }\n",
       "</style>\n",
       "<table border=\"1\" class=\"dataframe\">\n",
       "  <thead>\n",
       "    <tr style=\"text-align: right;\">\n",
       "      <th></th>\n",
       "      <th>population</th>\n",
       "      <th>percentage child restraints</th>\n",
       "      <th>estimated road death</th>\n",
       "      <th>number of deaths</th>\n",
       "    </tr>\n",
       "  </thead>\n",
       "  <tbody>\n",
       "    <tr>\n",
       "      <th>0</th>\n",
       "      <td>-0.139650</td>\n",
       "      <td>-2.463313</td>\n",
       "      <td>2.210046</td>\n",
       "      <td>0.119674</td>\n",
       "    </tr>\n",
       "    <tr>\n",
       "      <th>1</th>\n",
       "      <td>-0.375046</td>\n",
       "      <td>-0.755789</td>\n",
       "      <td>-0.206143</td>\n",
       "      <td>-0.332534</td>\n",
       "    </tr>\n",
       "    <tr>\n",
       "      <th>2</th>\n",
       "      <td>-0.527438</td>\n",
       "      <td>0.457206</td>\n",
       "      <td>-0.148615</td>\n",
       "      <td>-0.402918</td>\n",
       "    </tr>\n",
       "    <tr>\n",
       "      <th>3</th>\n",
       "      <td>-0.229857</td>\n",
       "      <td>0.550513</td>\n",
       "      <td>-0.148615</td>\n",
       "      <td>-0.272510</td>\n",
       "    </tr>\n",
       "    <tr>\n",
       "      <th>4</th>\n",
       "      <td>-0.597327</td>\n",
       "      <td>0.830435</td>\n",
       "      <td>-0.465021</td>\n",
       "      <td>-0.444037</td>\n",
       "    </tr>\n",
       "    <tr>\n",
       "      <th>5</th>\n",
       "      <td>0.314720</td>\n",
       "      <td>0.830435</td>\n",
       "      <td>-0.637606</td>\n",
       "      <td>-0.128538</td>\n",
       "    </tr>\n",
       "    <tr>\n",
       "      <th>6</th>\n",
       "      <td>-0.529523</td>\n",
       "      <td>-0.569174</td>\n",
       "      <td>0.829367</td>\n",
       "      <td>-0.382945</td>\n",
       "    </tr>\n",
       "    <tr>\n",
       "      <th>7</th>\n",
       "      <td>-0.565234</td>\n",
       "      <td>-1.268979</td>\n",
       "      <td>-0.608841</td>\n",
       "      <td>-0.435172</td>\n",
       "    </tr>\n",
       "    <tr>\n",
       "      <th>8</th>\n",
       "      <td>-0.109808</td>\n",
       "      <td>0.410552</td>\n",
       "      <td>-0.637606</td>\n",
       "      <td>-0.277637</td>\n",
       "    </tr>\n",
       "    <tr>\n",
       "      <th>9</th>\n",
       "      <td>-0.545591</td>\n",
       "      <td>0.783781</td>\n",
       "      <td>-1.011540</td>\n",
       "      <td>-0.442115</td>\n",
       "    </tr>\n",
       "    <tr>\n",
       "      <th>10</th>\n",
       "      <td>0.122239</td>\n",
       "      <td>0.737128</td>\n",
       "      <td>-0.925247</td>\n",
       "      <td>-0.278278</td>\n",
       "    </tr>\n",
       "    <tr>\n",
       "      <th>11</th>\n",
       "      <td>3.182516</td>\n",
       "      <td>0.457206</td>\n",
       "      <td>1.749820</td>\n",
       "      <td>3.277010</td>\n",
       "    </tr>\n",
       "  </tbody>\n",
       "</table>\n",
       "</div>"
      ],
      "text/plain": [
       "    population  percentage child restraints  estimated road death  \\\n",
       "0    -0.139650                    -2.463313              2.210046   \n",
       "1    -0.375046                    -0.755789             -0.206143   \n",
       "2    -0.527438                     0.457206             -0.148615   \n",
       "3    -0.229857                     0.550513             -0.148615   \n",
       "4    -0.597327                     0.830435             -0.465021   \n",
       "5     0.314720                     0.830435             -0.637606   \n",
       "6    -0.529523                    -0.569174              0.829367   \n",
       "7    -0.565234                    -1.268979             -0.608841   \n",
       "8    -0.109808                     0.410552             -0.637606   \n",
       "9    -0.545591                     0.783781             -1.011540   \n",
       "10    0.122239                     0.737128             -0.925247   \n",
       "11    3.182516                     0.457206              1.749820   \n",
       "\n",
       "    number of deaths  \n",
       "0           0.119674  \n",
       "1          -0.332534  \n",
       "2          -0.402918  \n",
       "3          -0.272510  \n",
       "4          -0.444037  \n",
       "5          -0.128538  \n",
       "6          -0.382945  \n",
       "7          -0.435172  \n",
       "8          -0.277637  \n",
       "9          -0.442115  \n",
       "10         -0.278278  \n",
       "11          3.277010  "
      ]
     },
     "execution_count": 16,
     "metadata": {},
     "output_type": "execute_result"
    }
   ],
   "source": [
    "# Create a new DataFrame\n",
    "child_restraints = df[[\"population\",\"number of deaths\",\"estimated road death\",\"percentage child restraints\"]]\n",
    "\n",
    "# Standardized Created DataFrame \n",
    "standardize(child_restraints, columns=['population', 'percentage child restraints','estimated road death','number of deaths'])"
   ]
  },
  {
   "cell_type": "code",
   "execution_count": null,
   "metadata": {
    "ExecuteTime": {
     "end_time": "2020-10-24T02:41:51.622365Z",
     "start_time": "2020-10-24T02:41:51.493784Z"
    },
    "deletable": false,
    "editable": false,
    "run_control": {
     "frozen": true
    }
   },
   "outputs": [],
   "source": [
    "# PiePlot to calculate population by income\n",
    "plt.figure(figsize=(6,6))\n",
    "colors = [\"burlywood\", \"olive\", \"orangered\"]\n",
    "income = df_raw_type.groupby(\"Income levelc\")[\"Population numbers for 2016a\"].sum()\n",
    "count_chart = income.plot(kind='pie',colors=colors,explode = (0.1, 0, 0), autopct=\"%1.1f%%\" , shadow=True, startangle=140)\n",
    "plt.title(\"Calculate Population by Income\")\n",
    "plt.axis(\"equal\")\n",
    "plt.savefig(\"piechart_populationbyincome.png\")\n",
    "plt.show()"
   ]
  },
  {
   "cell_type": "code",
   "execution_count": 17,
   "metadata": {
    "ExecuteTime": {
     "end_time": "2020-10-25T16:45:47.120818Z",
     "start_time": "2020-10-25T16:45:46.615516Z"
    }
   },
   "outputs": [
    {
     "data": {
      "image/png": "[encoded data removed]",
      "text/plain": [
       "<Figure size 576x576 with 1 Axes>"
      ]
     },
     "metadata": {},
     "output_type": "display_data"
    }
   ],
   "source": [
    "# DounutPlot to calculate population by income\n",
    "fig, ax = plt.subplots(figsize=(8, 8), subplot_kw=dict(aspect=\"equal\"))\n",
    "\n",
    "recipe = [\"High(15.7%)\",\n",
    "          \"Low(8.4%)\",\n",
    "          \"Middle(75.9%)\",\n",
    "          ]\n",
    "\n",
    "data = df_raw_type.groupby(\"Income levelc\")[\"Population numbers for 2016a\"].sum()\n",
    "colors = [\"burlywood\", \"olive\", \"orangered\"]\n",
    "wedges, texts = ax.pie(data, wedgeprops=dict(width=0.5), startangle=140,colors=colors)\n",
    "\n",
    "bbox_props = dict(boxstyle=\"square,pad=0.3\", fc=\"w\", ec=\"k\", lw=0.72)\n",
    "kw = dict(arrowprops=dict(arrowstyle=\"-\"),\n",
    "          bbox=bbox_props, zorder=0, va=\"center\")\n",
    "plt.setp( wedges, width=0.3, edgecolor='white')\n",
    "\n",
    "for i, p in enumerate(wedges):\n",
    "    ang = (p.theta2 - p.theta1)/2. + p.theta1\n",
    "    y = np.sin(np.deg2rad(ang))\n",
    "    x = np.cos(np.deg2rad(ang))\n",
    "    horizontalalignment = {-1: \"right\", 1: \"left\"}[int(np.sign(x))]\n",
    "    connectionstyle = \"angle,angleA=0,angleB={}\".format(ang)\n",
    "    kw[\"arrowprops\"].update({\"connectionstyle\": connectionstyle})\n",
    "    ax.annotate(recipe[i], xy=(x, y), xytext=(1.35*np.sign(x), 1.4*y),\n",
    "                horizontalalignment=horizontalalignment, **kw)\n",
    "\n",
    "ax.set_title(\"Calculate Population by Income\",fontsize=12)\n",
    "plt.savefig(\"../output_data/piechart_populationbyincome.png\", facecolor='w') ### JOHN ADDED , facecolor='w' \n",
    "plt.show()"
   ]
  },
  {
   "cell_type": "code",
   "execution_count": null,
   "metadata": {
    "ExecuteTime": {
     "end_time": "2020-10-24T03:51:23.682876Z",
     "start_time": "2020-10-24T03:51:23.573296Z"
    },
    "deletable": false,
    "editable": false,
    "run_control": {
     "frozen": true
    }
   },
   "outputs": [],
   "source": [
    "# PiePlot to calculate number of death by income\n",
    "plt.figure(figsize=(6,6))\n",
    "colors = [\"burlywood\", \"olive\", \"orangered\"]\n",
    "income = df_raw_type.groupby(\"Income levelc\")[\"Reported number of road traffic deaths\"].sum()\n",
    "count_chart = income.plot(kind='pie',colors=colors,explode = (0.1, 0, 0), autopct=\"%1.1f%%\" , shadow=True, startangle=140)\n",
    "plt.title(\"Calculate Number of Death by Income\")\n",
    "plt.axis(\"equal\")\n",
    "plt.savefig(\"piechart_deathsbyincome.png\")\n",
    "plt.show()"
   ]
  },
  {
   "cell_type": "code",
   "execution_count": 18,
   "metadata": {
    "ExecuteTime": {
     "end_time": "2020-10-25T16:45:51.344191Z",
     "start_time": "2020-10-25T16:45:50.892408Z"
    }
   },
   "outputs": [
    {
     "data": {
      "image/png": "[encoded data removed]",
      "text/plain": [
       "<Figure size 576x576 with 1 Axes>"
      ]
     },
     "metadata": {},
     "output_type": "display_data"
    }
   ],
   "source": [
    "# DounutPlot to calculate number of death by income\n",
    "fig, ax = plt.subplots(figsize=(8, 8), subplot_kw=dict(aspect=\"equal\"))\n",
    "\n",
    "recipe = [\"High(14.4%)\",\n",
    "          \"Low(4.3%)\",\n",
    "          \"Middle(81.3%)\",\n",
    "          ]\n",
    "\n",
    "data = df_raw_type.groupby(\"Income levelc\")[\"Population numbers for 2016a\"].sum()\n",
    "colors = [\"burlywood\", \"olive\", \"orangered\"]\n",
    "wedges, texts = ax.pie(data, wedgeprops=dict(width=0.5), startangle=140,colors=colors)\n",
    "\n",
    "bbox_props = dict(boxstyle=\"square,pad=0.3\", fc=\"w\", ec=\"k\", lw=0.72)\n",
    "kw = dict(arrowprops=dict(arrowstyle=\"-\"),\n",
    "          bbox=bbox_props, zorder=0, va=\"center\")\n",
    "plt.setp( wedges, width=0.3, edgecolor='white')\n",
    "\n",
    "for i, p in enumerate(wedges):\n",
    "    ang = (p.theta2 - p.theta1)/2. + p.theta1\n",
    "    y = np.sin(np.deg2rad(ang))\n",
    "    x = np.cos(np.deg2rad(ang))\n",
    "    horizontalalignment = {-1: \"right\", 1: \"left\"}[int(np.sign(x))]\n",
    "    connectionstyle = \"angle,angleA=0,angleB={}\".format(ang)\n",
    "    kw[\"arrowprops\"].update({\"connectionstyle\": connectionstyle})\n",
    "    ax.annotate(recipe[i], xy=(x, y), xytext=(1.35*np.sign(x), 1.4*y),\n",
    "                horizontalalignment=horizontalalignment, **kw)\n",
    "\n",
    "ax.set_title(\"Calculate Number of Death by Income\",fontsize=12)\n",
    "plt.savefig(\"../output_data/piechart_deathsbyincome.png\", facecolor='w') ### JOHN ADDED , facecolor='w' \n",
    "plt.show()"
   ]
  },
  {
   "cell_type": "code",
   "execution_count": 19,
   "metadata": {
    "ExecuteTime": {
     "end_time": "2020-10-25T16:45:52.738666Z",
     "start_time": "2020-10-25T16:45:52.277562Z"
    }
   },
   "outputs": [
    {
     "data": {
      "image/png": "[encoded data removed]",
      "text/plain": [
       "<Figure size 432x288 with 1 Axes>"
      ]
     },
     "metadata": {
      "needs_background": "light"
     },
     "output_type": "display_data"
    }
   ],
   "source": [
    "# Bar chart to present income levels and child restraints\n",
    "labels = ['High', 'Middle', 'Low']\n",
    "yes = [44, 35, 5]\n",
    "no = [5, 63, 23]\n",
    "\n",
    "# the label locations\n",
    "x = np.arange(len(labels))  \n",
    "\n",
    "# the width of the bars\n",
    "width = 0.35  \n",
    "\n",
    "fig, ax = plt.subplots()\n",
    "rects1 = ax.bar(x - width/2, yes, width, label='Yes')\n",
    "rects2 = ax.bar(x + width/2, no, width, label='No')\n",
    "\n",
    "# Add some text for labels, title and custom x-axis tick labels, etc.\n",
    "ax.set_ylabel('number of usage child restraints')\n",
    "ax.set_title('Child restraints by income and number of usage this law')\n",
    "ax.set_xticks(x)\n",
    "ax.set_xticklabels(labels)\n",
    "ax.legend()\n",
    "\n",
    "\n",
    "def autolabel(rects):\n",
    "    for rect in rects:\n",
    "        height = rect.get_height()\n",
    "        ax.annotate('{}'.format(height),\n",
    "                    xy=(rect.get_x() + rect.get_width() / 2, height),\n",
    "                    xytext=(0, 3),  # 3 points vertical offset\n",
    "                    textcoords=\"offset points\",\n",
    "                    ha='center', va='bottom')\n",
    "\n",
    "\n",
    "autolabel(rects1)\n",
    "autolabel(rects2)\n",
    "\n",
    "fig.tight_layout()\n",
    "plt.savefig(\"../output_data/child_restraints_income.png\", facecolor='w') ### JOHN ADDED , facecolor='w' \n",
    "plt.show()"
   ]
  },
  {
   "cell_type": "code",
   "execution_count": 20,
   "metadata": {
    "ExecuteTime": {
     "end_time": "2020-10-25T16:45:53.809425Z",
     "start_time": "2020-10-25T16:45:53.368888Z"
    }
   },
   "outputs": [
    {
     "name": "stdout",
     "output_type": "stream",
     "text": [
      "The r-squared is: 0.3392767927058605\n"
     ]
    },
    {
     "data": {
      "image/png": "[encoded data removed]",
      "text/plain": [
       "<Figure size 576x576 with 1 Axes>"
      ]
     },
     "metadata": {
      "needs_background": "light"
     },
     "output_type": "display_data"
    }
   ],
   "source": [
    "# Plot child restraints versus number of deaths on a scatterplot\n",
    "colors = np.random.rand(12)\n",
    "plt.figure(figsize=(8,8))\n",
    "\n",
    "n = 12\n",
    "x_values=child_restraints[\"estimated road death\"]\n",
    "y_values=child_restraints[\"percentage child restraints\"]\n",
    "\n",
    "scale = child_restraints[\"population\"]/100000\n",
    "plt.scatter(x_values, y_values, c=colors,s=scale,alpha=0.5, edgecolors='none')\n",
    "(slope, intercept, rvalue, pvalue, stderr) = linregress(x_values, y_values)\n",
    "regress_values = x_values * slope + intercept\n",
    "line_eq = \"y = \" + str(round(slope,2)) + \"x + \" + str(round(intercept,2))\n",
    "plt.plot(x_values,regress_values,\"r-\")\n",
    "plt.annotate(line_eq,(7,50),fontsize=15,color=\"red\")\n",
    "\n",
    "# Give our chart some labels and a tile \n",
    "plt.title(\"Influence of Child Restraints Laws on Road's Deaths\", fontsize=16)\n",
    "plt.xlabel(\"Estimated road traffic death rate per 100,000 populationd\")\n",
    "plt.ylabel(\"Child Restraints\")\n",
    "\n",
    "print(f\"The r-squared is: {rvalue**2}\")\n",
    "plt.savefig(\"../output_data/child_restraints_laws.png\", facecolor='w') ### JOHN ADDED , facecolor='w' \n",
    "plt.grid()\n",
    "plt.show()"
   ]
  },
  {
   "cell_type": "code",
   "execution_count": 21,
   "metadata": {
    "ExecuteTime": {
     "end_time": "2020-10-25T16:45:54.786706Z",
     "start_time": "2020-10-25T16:45:54.408610Z"
    }
   },
   "outputs": [
    {
     "data": {
      "image/png": "[encoded data removed]",
      "text/plain": [
       "<Figure size 432x288 with 1 Axes>"
      ]
     },
     "metadata": {
      "needs_background": "light"
     },
     "output_type": "display_data"
    }
   ],
   "source": [
    "# Bar chart to present income levels and child restraints\n",
    "labels = ['High', 'Middle', 'Low']\n",
    "yes = [47, 93, 21]\n",
    "no = [2, 5, 7]\n",
    "\n",
    "# the label locations\n",
    "x = np.arange(len(labels))  \n",
    "\n",
    "# the width of the bars\n",
    "width = 0.35  \n",
    "\n",
    "fig, ax = plt.subplots()\n",
    "rects1 = ax.bar(x - width/2, yes, width, label='Yes')\n",
    "rects2 = ax.bar(x + width/2, no, width, label='No')\n",
    "\n",
    "# Add some text for labels, title and custom x-axis tick labels, etc.\n",
    "ax.set_ylabel('number of usage seat-belt')\n",
    "ax.set_title('Seat-belt by income and number of usage this law')\n",
    "ax.set_xticks(x)\n",
    "ax.set_xticklabels(labels)\n",
    "ax.legend()\n",
    "\n",
    "\n",
    "def autolabel(rects):\n",
    "    for rect in rects:\n",
    "        height = rect.get_height()\n",
    "        ax.annotate('{}'.format(height),\n",
    "                    xy=(rect.get_x() + rect.get_width() / 2, height),\n",
    "                    xytext=(0, 3),  # 3 points vertical offset\n",
    "                    textcoords=\"offset points\",\n",
    "                    ha='center', va='bottom')\n",
    "\n",
    "\n",
    "autolabel(rects1)\n",
    "autolabel(rects2)\n",
    "\n",
    "fig.tight_layout()\n",
    "plt.savefig(\"../output_data/seatbelt_income.png\", facecolor='w') ### JOHN ADDED , facecolor='w' \n",
    "plt.show()"
   ]
  },
  {
   "cell_type": "code",
   "execution_count": 22,
   "metadata": {
    "ExecuteTime": {
     "end_time": "2020-10-25T16:45:56.418889Z",
     "start_time": "2020-10-25T16:45:55.338876Z"
    }
   },
   "outputs": [
    {
     "data": {
      "image/png": "[encoded data removed]",
      "text/plain": [
       "<Figure size 1440x720 with 1 Axes>"
      ]
     },
     "metadata": {
      "needs_background": "light"
     },
     "output_type": "display_data"
    }
   ],
   "source": [
    "# set width of bar and size of plot\n",
    "barWidth = 0.17\n",
    "plt.figure(figsize=(20,10))\n",
    "\n",
    "# set height of bar\n",
    "bars1 = df[\"rates seat belt drivers\"]\n",
    "bars2 = df[\"rates seat belt front seat\"]\n",
    "bars3 = df[\"rates seat belt rear seat\"]\n",
    "bars4 = df[\"rates seat belt all\"]\n",
    "bars5 = child_restraints[\"estimated road death\"]\n",
    " \n",
    "# Set position of bar on X axis\n",
    "r1 = np.arange(len(bars1))\n",
    "r2 = [x + barWidth for x in r1]\n",
    "r3 = [x + barWidth for x in r2]\n",
    "r4 = [x + barWidth for x in r3]\n",
    "r5 = [x + barWidth for x in r4]\n",
    " \n",
    "# Make the plot\n",
    "plt.bar(r1, bars1, color='olive', width=barWidth, edgecolor='white', label='rates seat belt drivers')\n",
    "plt.bar(r2, bars2, color='goldenrod', width=barWidth, edgecolor='white', label='rates seat belt front seat')\n",
    "plt.bar(r3, bars3, color='rosybrown', width=barWidth, edgecolor='white', label='rates seat belt rear seat')\n",
    "plt.bar(r4, bars4, color='gold', width=barWidth, edgecolor='white', label='rates seat belt all')\n",
    "plt.bar(r5, bars5, color='orangered', width=barWidth, edgecolor='white', label='rates of deaths')\n",
    " \n",
    "# Give our chart some labels and a tile \n",
    "plt.title('Wearing Seat-belt', fontsize='16', fontweight='bold')\n",
    "plt.xlabel('Countries', fontsize='14', fontweight='bold')\n",
    "plt.ylabel('Rate of wearing seat-belt',fontsize='14', fontweight='bold')\n",
    "\n",
    "# Add xticks on the middle of the group bars\n",
    "plt.xticks([r + barWidth for r in range(len(bars1))], df[\"country\"], rotation=90)\n",
    "\n",
    "# Create legend & Show graphic\n",
    "plt.grid()\n",
    "plt.legend(loc=\"best\")\n",
    "plt.savefig(\"../output_data/wearing_seat_belt.png\", facecolor='w') ### JOHN ADDED , facecolor='w' \n",
    "plt.show()\n"
   ]
  },
  {
   "cell_type": "code",
   "execution_count": 23,
   "metadata": {
    "ExecuteTime": {
     "end_time": "2020-10-25T16:45:58.984582Z",
     "start_time": "2020-10-25T16:45:58.548935Z"
    }
   },
   "outputs": [
    {
     "data": {
      "image/png": "[encoded data removed]",
      "text/plain": [
       "<Figure size 432x288 with 1 Axes>"
      ]
     },
     "metadata": {
      "needs_background": "light"
     },
     "output_type": "display_data"
    }
   ],
   "source": [
    "# Bar chart to present income levels and mobile phone laws\n",
    "labels = ['High', 'Middle', 'Low']\n",
    "yes = [47, 84, 19]\n",
    "no = [2, 14, 9]\n",
    "\n",
    "# the label locations\n",
    "x = np.arange(len(labels))  \n",
    "\n",
    "# the width of the bars\n",
    "width = 0.35  \n",
    "\n",
    "fig, ax = plt.subplots()\n",
    "rects1 = ax.bar(x - width/2, yes, width, label='Yes')\n",
    "rects2 = ax.bar(x + width/2, no, width, label='No')\n",
    "\n",
    "# Add some text for labels, title and custom x-axis tick labels, etc.\n",
    "ax.set_ylabel('number of usage mobile phone laws')\n",
    "ax.set_title('Mobile phone laws by income and number of usage this law')\n",
    "ax.set_xticks(x)\n",
    "ax.set_xticklabels(labels)\n",
    "ax.legend()\n",
    "\n",
    "\n",
    "def autolabel(rects):\n",
    "    for rect in rects:\n",
    "        height = rect.get_height()\n",
    "        ax.annotate('{}'.format(height),\n",
    "                    xy=(rect.get_x() + rect.get_width() / 2, height),\n",
    "                    xytext=(0, 3),  # 3 points vertical offset\n",
    "                    textcoords=\"offset points\",\n",
    "                    ha='center', va='bottom')\n",
    "\n",
    "\n",
    "autolabel(rects1)\n",
    "autolabel(rects2)\n",
    "\n",
    "fig.tight_layout()\n",
    "plt.savefig(\"../output_data/mobile_income.png\", facecolor='w') ### JOHN ADDED , facecolor='w' \n",
    "plt.show()"
   ]
  },
  {
   "cell_type": "code",
   "execution_count": 24,
   "metadata": {
    "ExecuteTime": {
     "end_time": "2020-10-25T16:45:59.559280Z",
     "start_time": "2020-10-25T16:45:59.541192Z"
    }
   },
   "outputs": [
    {
     "data": {
      "text/plain": [
       "Income levelc  Mobile phone law Applies to hand-held phone use\n",
       "High           No                                                  4\n",
       "               Yes                                                45\n",
       "Low            No                                                  9\n",
       "               Yes                                                19\n",
       "Middle         No                                                 17\n",
       "               Yes                                                81\n",
       "Name: Mobile phone law Applies to hand-held phone use, dtype: int64"
      ]
     },
     "metadata": {},
     "output_type": "display_data"
    }
   ],
   "source": [
    "# Make a groupby dataframe for hand-hold law\n",
    "detail_mobile_by_income1 = df_new3.groupby([\"Income levelc\",\"Mobile phone law Applies to hand-held phone use\"])[\"Mobile phone law Applies to hand-held phone use\"].count()\n",
    "display(detail_mobile_by_income1)"
   ]
  },
  {
   "cell_type": "code",
   "execution_count": 25,
   "metadata": {
    "ExecuteTime": {
     "end_time": "2020-10-25T16:46:00.276611Z",
     "start_time": "2020-10-25T16:46:00.258434Z"
    }
   },
   "outputs": [
    {
     "data": {
      "text/plain": [
       "Income levelc  Mobile phone law Applies to hands-free phone use\n",
       "High           No                                                  49\n",
       "Low            No                                                  20\n",
       "               Yes                                                  8\n",
       "Middle         No                                                  71\n",
       "               Yes                                                 27\n",
       "Name: Mobile phone law Applies to hands-free phone use, dtype: int64"
      ]
     },
     "metadata": {},
     "output_type": "display_data"
    }
   ],
   "source": [
    "# Make a groupby dataframe for hand free law\n",
    "detail_mobile_by_income2 = df_new3.groupby([\"Income levelc\",\"Mobile phone law Applies to hands-free phone use\"])[\"Mobile phone law Applies to hands-free phone use\"].count()\n",
    "display(detail_mobile_by_income2)"
   ]
  },
  {
   "cell_type": "code",
   "execution_count": 26,
   "metadata": {
    "ExecuteTime": {
     "end_time": "2020-10-25T16:46:01.188637Z",
     "start_time": "2020-10-25T16:46:01.162542Z"
    }
   },
   "outputs": [
    {
     "data": {
      "text/plain": [
       "Income levelc  Any data on use of mobile phone while driving\n",
       "High           No                                               15\n",
       "               Yes                                              34\n",
       "Low            No                                               23\n",
       "               Yes                                               5\n",
       "Middle         No                                               52\n",
       "               Yes                                              46\n",
       "Name: Any data on use of mobile phone while driving, dtype: int64"
      ]
     },
     "metadata": {},
     "output_type": "display_data"
    }
   ],
   "source": [
    "# Make a groupby dataframe for any used law\n",
    "detail_mobile_by_income3 = df_new3.groupby([\"Income levelc\",\"Any data on use of mobile phone while driving\"])[\"Any data on use of mobile phone while driving\"].count()\n",
    "display(detail_mobile_by_income3)"
   ]
  },
  {
   "cell_type": "code",
   "execution_count": 27,
   "metadata": {
    "ExecuteTime": {
     "end_time": "2020-10-25T16:46:03.017489Z",
     "start_time": "2020-10-25T16:46:02.374462Z"
    }
   },
   "outputs": [
    {
     "data": {
      "image/png": "[encoded data removed]",
      "text/plain": [
       "<Figure size 1440x720 with 1 Axes>"
      ]
     },
     "metadata": {
      "needs_background": "light"
     },
     "output_type": "display_data"
    }
   ],
   "source": [
    "# Grouped barplot\n",
    "def mk_groups(data):\n",
    "    try:\n",
    "        newdata = data.items()\n",
    "    except:\n",
    "        return\n",
    "\n",
    "    thisgroup = []\n",
    "    groups = []\n",
    "    for key, value in newdata:\n",
    "        newgroups = mk_groups(value)\n",
    "        if newgroups is None:\n",
    "            thisgroup.append((key, value))\n",
    "        else:\n",
    "            thisgroup.append((key, len(newgroups[-1])))\n",
    "            if groups:\n",
    "                groups = [g + n for n, g in zip(newgroups, groups)]\n",
    "            else:\n",
    "                groups = newgroups\n",
    "    return [thisgroup] + groups\n",
    "\n",
    "def add_line(ax, xpos, ypos):\n",
    "    line = plt.Line2D([xpos, xpos], [ypos + .1, ypos],\n",
    "                      transform=ax.transAxes, color='grey')\n",
    "    line.set_clip_on(False)\n",
    "    ax.add_line(line)\n",
    "\n",
    "def label_group_bar(ax, data):\n",
    "    groups = mk_groups(data)\n",
    "    xy = groups.pop()\n",
    "    x, y = zip(*xy)\n",
    "    ly = len(y)\n",
    "    xticks = range(1, ly + 1)\n",
    "    ax.set_title('How to use mobile phone in different countries')\n",
    "    ax.bar(xticks, y, align='center',color=[\"orangered\",\"olive\"])\n",
    "    ax.set_xticks(xticks)\n",
    "\n",
    "    ax.set_xticklabels(x)\n",
    "    ax.set_xlim(.5, ly + .5)\n",
    "    ax.yaxis.grid(True)\n",
    "\n",
    "    scale = 1. / ly\n",
    "    for pos in range(ly + 1):\n",
    "        add_line(ax, pos * scale, -.1)\n",
    "    ypos = -.2\n",
    "    while groups:\n",
    "        group = groups.pop()\n",
    "        pos = 0\n",
    "        for label, rpos in group:\n",
    "            lxpos = (pos + .5 * rpos) * scale\n",
    "            ax.text(lxpos, ypos, label, ha='center', transform=ax.transAxes)\n",
    "            add_line(ax, pos * scale, ypos)\n",
    "            pos += rpos\n",
    "        add_line(ax, pos * scale, ypos)\n",
    "        ypos -= .1\n",
    "\n",
    "if __name__ == '__main__':\n",
    "    data = {'hand-held phone':\n",
    "               {'High':\n",
    "                   {'Yes': 45,\n",
    "                    'No': 4},\n",
    "                'Middle':\n",
    "                   {'Yes': 19,\n",
    "                    'No': 9},\n",
    "                'Low':\n",
    "                   {'Yes': 81,\n",
    "                    'No': 17}\n",
    "               },\n",
    "            'hand-free phone':\n",
    "               {'High':\n",
    "                   {'Yes': 0,\n",
    "                    'No': 49},\n",
    "                'Middle':\n",
    "                   {'Yes': 27,\n",
    "                    'No': 71},\n",
    "                'Low':\n",
    "                   {'Yes': 8,\n",
    "                    'No': 20}\n",
    "               },\n",
    "            'any used phone':\n",
    "               {'High':\n",
    "                   {'Yes': 34,\n",
    "                    'No': 15},\n",
    "                'Middle':\n",
    "                   {'Yes': 46,\n",
    "                    'No': 52},\n",
    "                'Low':\n",
    "                   {'Yes': 5,\n",
    "                    'No': 23}\n",
    "               }\n",
    "            \n",
    "           }\n",
    "    fig = plt.figure(figsize=(20,10))\n",
    "    \n",
    "    ax = fig.add_subplot(1,1,1)\n",
    "    label_group_bar(ax, data)\n",
    "    fig.subplots_adjust(bottom=0.3)\n",
    "    fig.savefig('../output_data/use_mobile_phone.png', facecolor='w') ### JOHN ADDED , facecolor='w' "
   ]
  },
  {
   "cell_type": "code",
   "execution_count": null,
   "metadata": {},
   "outputs": [],
   "source": []
  }
 ],
 "metadata": {
  "hide_input": false,
  "kernelspec": {
   "display_name": "Python 3",
   "language": "python",
   "name": "python3"
  },
  "language_info": {
   "codemirror_mode": {
    "name": "ipython",
    "version": 3
   },
   "file_extension": ".py",
   "mimetype": "text/x-python",
   "name": "python",
   "nbconvert_exporter": "python",
   "pygments_lexer": "ipython3",
   "version": "3.7.9"
  },
  "toc": {
   "base_numbering": 1,
   "nav_menu": {},
   "number_sections": true,
   "sideBar": true,
   "skip_h1_title": false,
   "title_cell": "Table of Contents",
   "title_sidebar": "Contents",
   "toc_cell": false,
   "toc_position": {},
   "toc_section_display": true,
   "toc_window_display": false
  },
  "varInspector": {
   "cols": {
    "lenName": "40",
    "lenType": 16,
    "lenVar": 40
   },
   "kernels_config": {
    "python": {
     "delete_cmd_postfix": "",
     "delete_cmd_prefix": "del ",
     "library": "var_list.py",
     "varRefreshCmd": "print(var_dic_list())"
    },
    "r": {
     "delete_cmd_postfix": ") ",
     "delete_cmd_prefix": "rm(",
     "library": "var_list.r",
     "varRefreshCmd": "cat(var_dic_list()) "
    }
   },
   "types_to_exclude": [
    "module",
    "function",
    "builtin_function_or_method",
    "instance",
    "_Feature"
   ],
   "window_display": false
  }
 },
 "nbformat": 4,
 "nbformat_minor": 4
}
