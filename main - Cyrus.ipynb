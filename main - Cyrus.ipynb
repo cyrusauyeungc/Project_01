{
 "cells": [
  {
   "cell_type": "markdown",
   "metadata": {
    "ExecuteTime": {
     "end_time": "2020-10-21T11:38:27.083262Z",
     "start_time": "2020-10-21T11:38:27.079351Z"
    }
   },
   "source": [
    "# Max Speed vs. Fatality Rate - Cyrus\n",
    "# ---------------- Start ----------------"
   ]
  },
  {
   "cell_type": "code",
   "execution_count": 53,
   "metadata": {
    "ExecuteTime": {
     "end_time": "2020-10-21T13:10:00.521829Z",
     "start_time": "2020-10-21T13:10:00.512657Z"
    }
   },
   "outputs": [],
   "source": [
    "# dependencies and Setup\n",
    "import matplotlib.pyplot as plt\n",
    "import numpy as np\n",
    "import pandas as pd\n",
    "import scipy.stats as st\n",
    "from scipy.stats import linregress\n",
    "\n",
    "# raw data files\n",
    "max_spd_path = \"data_raw/max_speed_limits_by_country.csv\"\n",
    "death_by_type_path = \"data_raw/deaths_by_vehicle_type.csv\"\n",
    "tot_death_by_cty_path = \"data_raw/total_deaths_by_country.csv\"\n",
    "\n",
    "# read the mouse data and the death by type rate\n",
    "# add header = 1 to remove the extra row in the CSV file\n",
    "max_spd = pd.read_csv(max_spd_path, header=1)\n",
    "\n",
    "# header contains \"Distribution of road traffic deaths by type of road user (%)\"\n",
    "death_by_typ = pd.read_csv(death_by_type_path, header=1,)\n",
    "\n",
    "# header contains \"Estimated number of road traffic deaths\" & \"Estimated road traffic death rate (per 100 000 population)\n",
    "tot_death_by_cty = pd.read_csv(tot_death_by_cty_path, header=1,)\n"
   ]
  },
  {
   "cell_type": "code",
   "execution_count": 88,
   "metadata": {
    "ExecuteTime": {
     "end_time": "2020-10-21T13:29:32.473705Z",
     "start_time": "2020-10-21T13:29:32.453837Z"
    }
   },
   "outputs": [
    {
     "data": {
      "text/html": [
       "<div>\n",
       "<style scoped>\n",
       "    .dataframe tbody tr th:only-of-type {\n",
       "        vertical-align: middle;\n",
       "    }\n",
       "\n",
       "    .dataframe tbody tr th {\n",
       "        vertical-align: top;\n",
       "    }\n",
       "\n",
       "    .dataframe thead th {\n",
       "        text-align: right;\n",
       "    }\n",
       "</style>\n",
       "<table border=\"1\" class=\"dataframe\">\n",
       "  <thead>\n",
       "    <tr style=\"text-align: right;\">\n",
       "      <th></th>\n",
       "      <th>Country</th>\n",
       "      <th>Year</th>\n",
       "      <th>Urban Max Speed</th>\n",
       "      <th>Rural Max Speed</th>\n",
       "      <th>Est. no. of road traffic deaths</th>\n",
       "      <th>Est. road traffic death rate (per 100 000 population)</th>\n",
       "    </tr>\n",
       "  </thead>\n",
       "  <tbody>\n",
       "    <tr>\n",
       "      <th>0</th>\n",
       "      <td>Afghanistan</td>\n",
       "      <td>2017</td>\n",
       "      <td>90</td>\n",
       "      <td>90</td>\n",
       "      <td>5230</td>\n",
       "      <td>15.1</td>\n",
       "    </tr>\n",
       "    <tr>\n",
       "      <th>1</th>\n",
       "      <td>Albania</td>\n",
       "      <td>2017</td>\n",
       "      <td>40</td>\n",
       "      <td>80</td>\n",
       "      <td>399</td>\n",
       "      <td>13.6</td>\n",
       "    </tr>\n",
       "    <tr>\n",
       "      <th>2</th>\n",
       "      <td>Angola</td>\n",
       "      <td>2017</td>\n",
       "      <td>60</td>\n",
       "      <td>90</td>\n",
       "      <td>6797</td>\n",
       "      <td>23.6</td>\n",
       "    </tr>\n",
       "    <tr>\n",
       "      <th>3</th>\n",
       "      <td>Antigua and Barbuda</td>\n",
       "      <td>2017</td>\n",
       "      <td>32</td>\n",
       "      <td>64</td>\n",
       "      <td>8</td>\n",
       "      <td>7.9</td>\n",
       "    </tr>\n",
       "    <tr>\n",
       "      <th>4</th>\n",
       "      <td>Argentina</td>\n",
       "      <td>2017</td>\n",
       "      <td>60</td>\n",
       "      <td>110</td>\n",
       "      <td>6119</td>\n",
       "      <td>14.0</td>\n",
       "    </tr>\n",
       "  </tbody>\n",
       "</table>\n",
       "</div>"
      ],
      "text/plain": [
       "               Country  Year  Urban Max Speed  Rural Max Speed  \\\n",
       "0          Afghanistan  2017               90               90   \n",
       "1              Albania  2017               40               80   \n",
       "2               Angola  2017               60               90   \n",
       "3  Antigua and Barbuda  2017               32               64   \n",
       "4            Argentina  2017               60              110   \n",
       "\n",
       "   Est. no. of road traffic deaths  \\\n",
       "0                             5230   \n",
       "1                              399   \n",
       "2                             6797   \n",
       "3                                8   \n",
       "4                             6119   \n",
       "\n",
       "   Est. road traffic death rate (per 100 000 population)  \n",
       "0                                               15.1      \n",
       "1                                               13.6      \n",
       "2                                               23.6      \n",
       "3                                                7.9      \n",
       "4                                               14.0      "
      ]
     },
     "execution_count": 88,
     "metadata": {},
     "output_type": "execute_result"
    }
   ],
   "source": [
    "# combine the data into a single dataset\n",
    "combined_data = pd.merge(max_spd, tot_death_by_cty,on=[\"Country\"], how = \"inner\")\n",
    "\n",
    "# remove the extra space in front of the columns\n",
    "combined_data = combined_data.rename(columns = {\" Urban\":\"Urban Max Speed\",\n",
    "                                                \" Rural\":\"Rural Max Speed\", \n",
    "                                                \" 2016\":\"Est. no. of road traffic deaths\",\n",
    "                                                \" 2016.1\":\"Est. road traffic death rate (per 100 000 population)\",\n",
    "                                                })\n",
    "\n",
    "## for column \"Urban Max Speed\" and \"Rural Max Speed\" \n",
    "# drop all rows containing \"?\" or \"No\"\n",
    "combined_data = combined_data[~combined_data['Rural Max Speed'].isin(['?',\"No\",\"No \"])]\n",
    "combined_data = combined_data[~combined_data['Urban Max Speed'].isin(['?',\"No\",\"No \"])]\n",
    "# as the max speed column contains a range of numbers, this is to capture the last number in the cell\n",
    "combined_data[\"Rural Max Speed\"] = combined_data[\"Rural Max Speed\"].str.split().str[-1]\n",
    "combined_data[\"Urban Max Speed\"] = combined_data[\"Urban Max Speed\"].str.split().str[-1]\n",
    "# convert data type from string to integer\n",
    "combined_data['Rural Max Speed'] = combined_data['Rural Max Speed'].astype(int)\n",
    "combined_data['Urban Max Speed'] = combined_data['Urban Max Speed'].astype(int)\n",
    "\n",
    "## for column \"Est. no. of road traffic deaths\"\n",
    "# remove all spaces within the column \n",
    "combined_data['Est. no. of road traffic deaths'] = combined_data['Est. no. of road traffic deaths'].str.replace(\" \",\"\")\n",
    "# extract the numbers before the character \"[\" \n",
    "combined_data['Est. no. of road traffic deaths'] = combined_data['Est. no. of road traffic deaths'].str.split('[').str[0]\n",
    "# convert data type from string to integer\n",
    "combined_data['Est. no. of road traffic deaths'] = combined_data['Est. no. of road traffic deaths'].astype(int)\n",
    "\n",
    "# display the data table for preview\n",
    "combined_data.head()"
   ]
  },
  {
   "cell_type": "markdown",
   "metadata": {},
   "source": [
    "# For me, only 12 countries couldn't show the correlation between speed limit and death rate\n",
    "I've included the code in case if we need to sort the country"
   ]
  },
  {
   "cell_type": "code",
   "execution_count": 89,
   "metadata": {
    "ExecuteTime": {
     "end_time": "2020-10-21T13:30:43.179975Z",
     "start_time": "2020-10-21T13:30:43.178187Z"
    }
   },
   "outputs": [],
   "source": [
    "# # list the required contries for easier editting\n",
    "# countries = [\"Australia\",\n",
    "#              \"United States of America\",\n",
    "#              \"United Kingdom of Great Britain and Northern Ireland\",\n",
    "#              \"Spain\",\n",
    "#              \"Sweden\",\n",
    "#              \"Germany\",\n",
    "#              \"Israel\",\n",
    "#              \"Canada\",\n",
    "#              \"Argentina\",\n",
    "#              \"Belgium\",\n",
    "#              \"Finland\",\n",
    "#              \"Greece\",]\n",
    "\n",
    "# # select the required countries\n",
    "# combined_data = combined_data[combined_data[\"Country\"].isin(countries)]\n",
    "\n",
    "# # display the data table for preview\n",
    "# combined_data.head()"
   ]
  },
  {
   "cell_type": "code",
   "execution_count": 90,
   "metadata": {
    "ExecuteTime": {
     "end_time": "2020-10-21T13:30:45.238456Z",
     "start_time": "2020-10-21T13:30:45.093325Z"
    }
   },
   "outputs": [
    {
     "name": "stdout",
     "output_type": "stream",
     "text": [
      "The r-squared is: 0.010846508331365303\n"
     ]
    },
    {
     "data": {
      "image/png": "[encoded data removed]",
      "text/plain": [
       "<Figure size 432x288 with 1 Axes>"
      ]
     },
     "metadata": {
      "needs_background": "light"
     },
     "output_type": "display_data"
    }
   ],
   "source": [
    "# platting the graph for Est. Road Traffic Death Rate vs. Rural Speed Limit\n",
    "x_values = combined_data['Rural Max Speed']\n",
    "y_values = combined_data['Est. road traffic death rate (per 100 000 population)']\n",
    "(slope, intercept, rvalue, pvalue, stderr) = linregress(x_values, y_values)\n",
    "regress_values = x_values * slope + intercept\n",
    "line_eq = \"y = \" + str(round(slope,2)) + \"x + \" + str(round(intercept,2))\n",
    "plt.scatter(x_values,y_values)\n",
    "plt.plot(x_values,regress_values,\"r-\")\n",
    "plt.annotate(line_eq,(6,10),fontsize=15,color=\"red\")\n",
    "plt.xlabel('Rural speed limit')\n",
    "plt.ylabel('Est. road traffic death rate\\n(per 100 000 population)')\n",
    "plt.title(\"Est. Road Traffic Death Rate vs. Rural Speed Limit\",fontsize=15)\n",
    "print(f\"The r-squared is: {rvalue**2}\")\n",
    "plt.show()"
   ]
  },
  {
   "cell_type": "code",
   "execution_count": 86,
   "metadata": {
    "ExecuteTime": {
     "end_time": "2020-10-21T13:22:54.825493Z",
     "start_time": "2020-10-21T13:22:54.676851Z"
    }
   },
   "outputs": [
    {
     "name": "stdout",
     "output_type": "stream",
     "text": [
      "The r-squared is: 0.025457184901865045\n"
     ]
    },
    {
     "data": {
      "image/png": "[encoded data removed]",
      "text/plain": [
       "<Figure size 432x288 with 1 Axes>"
      ]
     },
     "metadata": {
      "needs_background": "light"
     },
     "output_type": "display_data"
    }
   ],
   "source": [
    "# platting the graph for Est. Road Traffic Death Rate vs. Urban Speed Limit\n",
    "x_values = combined_data['Urban Max Speed']\n",
    "y_values = combined_data['Est. road traffic death rate (per 100 000 population)']\n",
    "(slope, intercept, rvalue, pvalue, stderr) = linregress(x_values, y_values)\n",
    "regress_values = x_values * slope + intercept\n",
    "line_eq = \"y = \" + str(round(slope,2)) + \"x + \" + str(round(intercept,2))\n",
    "plt.scatter(x_values,y_values)\n",
    "plt.plot(x_values,regress_values,\"r-\")\n",
    "plt.annotate(line_eq,(6,10),fontsize=15,color=\"red\")\n",
    "plt.xlabel('Urban speed limit')\n",
    "plt.ylabel('Est. road traffic death rate\\n(per 100 000 population)')\n",
    "plt.title(\"Est. Road Traffic Death Rate vs. Urban Speed Limit\",fontsize=15)\n",
    "print(f\"The r-squared is: {rvalue**2}\")\n",
    "plt.show()"
   ]
  },
  {
   "cell_type": "markdown",
   "metadata": {
    "ExecuteTime": {
     "end_time": "2020-10-21T11:39:21.950415Z",
     "start_time": "2020-10-21T11:39:21.948353Z"
    }
   },
   "source": [
    "# ---------------- End ----------------\n",
    "# Max Speed vs. Fatality Rate - Cyrus"
   ]
  }
 ],
 "metadata": {
  "kernelspec": {
   "display_name": "Python 3",
   "language": "python",
   "name": "python3"
  },
  "language_info": {
   "codemirror_mode": {
    "name": "ipython",
    "version": 3
   },
   "file_extension": ".py",
   "mimetype": "text/x-python",
   "name": "python",
   "nbconvert_exporter": "python",
   "pygments_lexer": "ipython3",
   "version": "3.7.9"
  },
  "varInspector": {
   "cols": {
    "lenName": 16,
    "lenType": 16,
    "lenVar": 40
   },
   "kernels_config": {
    "python": {
     "delete_cmd_postfix": "",
     "delete_cmd_prefix": "del ",
     "library": "var_list.py",
     "varRefreshCmd": "print(var_dic_list())"
    },
    "r": {
     "delete_cmd_postfix": ") ",
     "delete_cmd_prefix": "rm(",
     "library": "var_list.r",
     "varRefreshCmd": "cat(var_dic_list()) "
    }
   },
   "types_to_exclude": [
    "module",
    "function",
    "builtin_function_or_method",
    "instance",
    "_Feature"
   ],
   "window_display": false
  }
 },
 "nbformat": 4,
 "nbformat_minor": 4
}
